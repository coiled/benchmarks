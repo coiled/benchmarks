{
 "cells": [
  {
   "cell_type": "code",
   "execution_count": null,
   "id": "94abf33e-619d-4a60-bcdf-99d4fe154cbb",
   "metadata": {
    "tags": []
   },
   "outputs": [
    {
     "data": {
      "application/vnd.jupyter.widget-view+json": {
       "model_id": "4a8dd3f72a094d73bc7920ad6ed67ee7",
       "version_major": 2,
       "version_minor": 0
      },
      "text/plain": [
       "Output()"
      ]
     },
     "metadata": {},
     "output_type": "display_data"
    },
    {
     "data": {
      "text/html": [
       "<pre style=\"white-space:pre;overflow-x:auto;line-height:normal;font-family:Menlo,'DejaVu Sans Mono',consolas,'Courier New',monospace\"></pre>\n"
      ],
      "text/plain": []
     },
     "metadata": {},
     "output_type": "display_data"
    },
    {
     "data": {
      "application/vnd.jupyter.widget-view+json": {
       "model_id": "ec50781c8de54ac885cb0f17fdf25b82",
       "version_major": 2,
       "version_minor": 0
      },
      "text/plain": [
       "Output()"
      ]
     },
     "metadata": {},
     "output_type": "display_data"
    }
   ],
   "source": [
    "import coiled\n",
    "import yaml\n",
    "\n",
    "kwargs = yaml.safe_load(\n",
    "  \"\"\"\n",
    "  package_sync: true\n",
    "  wait_for_workers: true\n",
    "  scheduler_vm_types: [m6i.large]\n",
    "  backend_options:\n",
    "    send_prometheus_metrics: true\n",
    "    spot: true\n",
    "    spot_on_demand_fallback: true\n",
    "    multizone: true\n",
    "\n",
    "  n_workers: 1\n",
    "  worker_vm_types: [m6i.large]  # 2CPU, 8GiB\n",
    "  account: dask-engineering\n",
    "  \"\"\"\n",
    ")\n",
    "cluster = coiled.Cluster(**kwargs)"
   ]
  },
  {
   "cell_type": "code",
   "execution_count": null,
   "id": "099f2ba1-3a5d-4adc-866c-26baa4a15f27",
   "metadata": {},
   "outputs": [],
   "source": []
  }
 ],
 "metadata": {
  "kernelspec": {
   "display_name": "Python 3 (ipykernel)",
   "language": "python",
   "name": "python3"
  },
  "language_info": {
   "codemirror_mode": {
    "name": "ipython",
    "version": 3
   },
   "file_extension": ".py",
   "mimetype": "text/x-python",
   "name": "python",
   "nbconvert_exporter": "python",
   "pygments_lexer": "ipython3",
   "version": "3.10.10"
  }
 },
 "nbformat": 4,
 "nbformat_minor": 5
}
