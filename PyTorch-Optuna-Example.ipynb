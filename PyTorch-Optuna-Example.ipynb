{
 "cells": [
  {
   "cell_type": "code",
   "execution_count": 34,
   "id": "44900f9e",
   "metadata": {
    "scrolled": false
   },
   "outputs": [
    {
     "name": "stdout",
     "output_type": "stream",
     "text": [
      "Cuda is available: True\n"
     ]
    }
   ],
   "source": [
    "# Derived partially from\n",
    "# - https://pytorch.org/tutorials/beginner/dcgan_faces_tutorial.html\n",
    "import os\n",
    "import optuna\n",
    "import random\n",
    "import torch\n",
    "import torch.nn as nn\n",
    "import torch.nn.parallel\n",
    "import torch.backends.cudnn as cudnn\n",
    "import torch.optim as optim\n",
    "import torch.utils.data\n",
    "import torchvision.datasets as dset\n",
    "import torchvision.transforms as transforms\n",
    "import torchvision.utils as vutils\n",
    "import numpy as np\n",
    "import matplotlib.pyplot as plt\n",
    "import matplotlib.animation as animation\n",
    "from IPython.display import HTML\n",
    "from distributed import wait\n",
    "\n",
    "print(f\"Cuda is available: {torch.cuda.is_available()}\")\n",
    "\n",
    "# Root directory for dataset\n",
    "dataroot = \"data/celeba\"\n",
    "\n",
    "# Number of workers for dataloader\n",
    "workers = 0  # IMPORTANT w/ optuna; it launches a daemonic process, so PyTorch can't itself use it then.\n",
    "\n",
    "# Batch size during training\n",
    "batch_size = 128\n",
    "\n",
    "# Spatial size of training images. All images will be resized to this\n",
    "#   size using a transformer.\n",
    "image_size = 64\n",
    "\n",
    "# Number of channels in the training images. For color images this is 3\n",
    "nc = 3\n",
    "\n",
    "# Size of z latent vector (i.e. size of generator input)\n",
    "nz = 100\n",
    "\n",
    "# Size of feature maps in generator\n",
    "ngf = 64\n",
    "\n",
    "# Size of feature maps in discriminator\n",
    "ndf = 64\n",
    "\n",
    "# Number of training epochs\n",
    "num_epochs = 20\n",
    "\n",
    "# Beta1 hyperparameter for Adam optimizers\n",
    "beta1 = 0.5\n",
    "\n",
    "# Number of GPUs available. Use 0 for CPU mode.\n",
    "ngpu = 1\n",
    "\n",
    "\n",
    "# We create a fake image dataset. This ought to be replaced by\n",
    "# your actual dataset or pytorch's example datasets. We do this here\n",
    "# to focus more on computation than actual convergence.\n",
    "class FakeImageDataset(torch.utils.data.Dataset):\n",
    "    def __init__(self, count=1_000):\n",
    "        self.labels = np.random.randint(0, 5, size=count)\n",
    "        \n",
    "    def __len__(self):\n",
    "        return len(self.labels)\n",
    "    \n",
    "    def __getitem__(self, idx):\n",
    "        label = self.labels[idx]\n",
    "        torch.random.seed = label\n",
    "        img = torch.rand(3, image_size, image_size)\n",
    "        return img, label\n",
    "\n",
    "dataset = FakeImageDataset()\n",
    "\n",
    "# Create the dataloader\n",
    "dataloader = torch.utils.data.DataLoader(dataset, batch_size=batch_size,\n",
    "                                         shuffle=True, num_workers=workers)\n",
    "\n",
    "def weights_init(m):\n",
    "    classname = m.__class__.__name__\n",
    "    if classname.find('Conv') != -1:\n",
    "        nn.init.normal_(m.weight.data, 0.0, 0.02)\n",
    "    elif classname.find('BatchNorm') != -1:\n",
    "        nn.init.normal_(m.weight.data, 1.0, 0.02)\n",
    "        nn.init.constant_(m.bias.data, 0)\n",
    "        \n",
    "class Generator(nn.Module):\n",
    "    def __init__(self, ngpu, activation=nn.Sigmoid()):\n",
    "        super(Generator, self).__init__()\n",
    "        self.ngpu = ngpu\n",
    "        self.main = nn.Sequential(\n",
    "            # input is Z, going into a convolution\n",
    "            nn.ConvTranspose2d( nz, ngf * 8, 4, 1, 0, bias=False),\n",
    "            nn.BatchNorm2d(ngf * 8),\n",
    "            nn.ReLU(True),\n",
    "            # state size. ``(ngf*8) x 4 x 4``\n",
    "            nn.ConvTranspose2d(ngf * 8, ngf * 4, 4, 2, 1, bias=False),\n",
    "            nn.BatchNorm2d(ngf * 4),\n",
    "            nn.ReLU(True),\n",
    "            # state size. ``(ngf*4) x 8 x 8``\n",
    "            nn.ConvTranspose2d( ngf * 4, ngf * 2, 4, 2, 1, bias=False),\n",
    "            nn.BatchNorm2d(ngf * 2),\n",
    "            nn.ReLU(True),\n",
    "            # state size. ``(ngf*2) x 16 x 16``\n",
    "            nn.ConvTranspose2d( ngf * 2, ngf, 4, 2, 1, bias=False),\n",
    "            nn.BatchNorm2d(ngf),\n",
    "            nn.ReLU(True),\n",
    "            # state size. ``(ngf) x 32 x 32``\n",
    "            nn.ConvTranspose2d( ngf, nc, 4, 2, 1, bias=False),\n",
    "            activation\n",
    "            # state size. ``(nc) x 64 x 64``\n",
    "        )\n",
    "\n",
    "    def forward(self, input):\n",
    "        return self.main(input)\n",
    "\n",
    "    @classmethod\n",
    "    def from_trial(cls, trial):\n",
    "        activations = [nn.Sigmoid, nn.Tanh]\n",
    "        idx = trial.suggest_categorical(\"generator_activation\", list(range(len(activations))))\n",
    "        activation = activations[idx]()\n",
    "        return cls(ngpu, activation)\n",
    "\n",
    "class Discriminator(nn.Module):\n",
    "    def __init__(self, ngpu, leaky_relu_slope=0.2, activation=nn.Sigmoid()):\n",
    "        super(Discriminator, self).__init__()\n",
    "        self.ngpu = ngpu\n",
    "        self.main = nn.Sequential(\n",
    "            # input is ``(nc) x 64 x 64``\n",
    "            nn.Conv2d(nc, ndf, 4, 2, 1, bias=False),\n",
    "            nn.LeakyReLU(leaky_relu_slope, inplace=True),\n",
    "            # state size. ``(ndf) x 32 x 32``\n",
    "            nn.Conv2d(ndf, ndf * 2, 4, 2, 1, bias=False),\n",
    "            nn.BatchNorm2d(ndf * 2),\n",
    "            nn.LeakyReLU(leaky_relu_slope, inplace=True),\n",
    "            # state size. ``(ndf*2) x 16 x 16``\n",
    "            nn.Conv2d(ndf * 2, ndf * 4, 4, 2, 1, bias=False),\n",
    "            nn.BatchNorm2d(ndf * 4),\n",
    "            nn.LeakyReLU(leaky_relu_slope, inplace=True),\n",
    "            # state size. ``(ndf*4) x 8 x 8``\n",
    "            nn.Conv2d(ndf * 4, ndf * 8, 4, 2, 1, bias=False),\n",
    "            nn.BatchNorm2d(ndf * 8),\n",
    "            nn.LeakyReLU(leaky_relu_slope, inplace=True),\n",
    "            # state size. ``(ndf*8) x 4 x 4``\n",
    "            nn.Conv2d(ndf * 8, 1, 4, 1, 0, bias=False),\n",
    "            activation\n",
    "        )\n",
    "\n",
    "    def forward(self, input):\n",
    "        return self.main(input)\n",
    "    \n",
    "    @classmethod\n",
    "    def from_trial(cls, trial):\n",
    "        activations = [nn.Sigmoid, nn.Tanh]\n",
    "        idx = trial.suggest_categorical(\"descriminator_activation\", list(range(len(activations))))\n",
    "        activation = activations[idx]()\n",
    "        \n",
    "        slopes = np.arange(0.1, 0.4, 0.1)\n",
    "        idx = trial.suggest_categorical(\"descriminator_leaky_relu_slope\", list(range(len(slopes))))\n",
    "        leaky_relu_slope = slopes[idx]\n",
    "        return cls(ngpu, leaky_relu_slope, activation)\n",
    "        \n",
    "\n",
    "def objective(trial):\n",
    "    # Decide which device we want to run on\n",
    "    device = torch.device(\"cuda:0\" if (torch.cuda.is_available() and ngpu > 0) else \"cpu\")\n",
    "\n",
    "    ############################\n",
    "    ### Create the generator ###\n",
    "    netG = Generator.from_trial(trial).to(device)\n",
    "\n",
    "    # Handle multi-GPU if desired\n",
    "    if (device.type == 'cuda') and (ngpu > 1):\n",
    "        netG = nn.DataParallel(netG, list(range(ngpu)))\n",
    "\n",
    "    # Apply the ``weights_init`` function to randomly initialize all weights\n",
    "    #  to ``mean=0``, ``stdev=0.02``.\n",
    "    netG.apply(weights_init)\n",
    "\n",
    "    ################################\n",
    "    ### Create the Discriminator ###\n",
    "    netD = Discriminator.from_trial(trial).to(device)\n",
    "\n",
    "    # Handle multi-GPU if desired\n",
    "    if (device.type == 'cuda') and (ngpu > 1):\n",
    "        netD = nn.DataParallel(netD, list(range(ngpu)))\n",
    "\n",
    "    # Apply the ``weights_init`` function to randomly initialize all weights\n",
    "    # like this: ``to mean=0, stdev=0.2``.\n",
    "    netD.apply(weights_init)\n",
    "\n",
    "    ############################################\n",
    "    ### Remaining crierion, optimizers, etc. ###\n",
    "    # Initialize the ``BCELoss`` function\n",
    "    criterion = nn.BCELoss()\n",
    "\n",
    "    # Create batch of latent vectors that we will use to visualize\n",
    "    #  the progression of the generator\n",
    "    fixed_noise = torch.randn(64, nz, 1, 1, device=device)\n",
    "\n",
    "    # Establish convention for real and fake labels during training\n",
    "    real_label = 1.\n",
    "    fake_label = 0.\n",
    "    \n",
    "    # Learning rate for optimizers\n",
    "    lr = 0.00001\n",
    "\n",
    "    # Setup Adam optimizers for both G and D\n",
    "    optimizerD = optim.Adam(netD.parameters(), lr=lr, betas=(beta1, 0.999))\n",
    "    optimizerG = optim.Adam(netG.parameters(), lr=lr, betas=(beta1, 0.999))\n",
    "    \n",
    "    #####################\n",
    "    ### Training Loop ###\n",
    "\n",
    "    # Lists to keep track of progress\n",
    "    img_list = []\n",
    "    G_losses = []\n",
    "    D_losses = []\n",
    "    iters = 0\n",
    "\n",
    "    print(\"Starting Training Loop...\")\n",
    "    # For each epoch\n",
    "    for epoch in range(num_epochs):\n",
    "        # For each batch in the dataloader\n",
    "        for i, data in enumerate(dataloader, 0):\n",
    "\n",
    "            ############################\n",
    "            # (1) Update D network: maximize log(D(x)) + log(1 - D(G(z)))\n",
    "            ###########################\n",
    "            ## Train with all-real batch\n",
    "            netD.zero_grad()\n",
    "            # Format batch\n",
    "            real_cpu = data[0].to(device)\n",
    "            b_size = real_cpu.size(0)\n",
    "            label = torch.full((b_size,), real_label, dtype=torch.float, device=device)\n",
    "            # Forward pass real batch through D\n",
    "            output = netD(real_cpu).view(-1)\n",
    "            # Calculate loss on all-real batch\n",
    "            errD_real = criterion(output, label)\n",
    "            # Calculate gradients for D in backward pass\n",
    "            errD_real.backward()\n",
    "            D_x = output.mean().item()\n",
    "\n",
    "            ## Train with all-fake batch\n",
    "            # Generate batch of latent vectors\n",
    "            noise = torch.randn(b_size, nz, 1, 1, device=device)\n",
    "            # Generate fake image batch with G\n",
    "            fake = netG(noise)\n",
    "            label.fill_(fake_label)\n",
    "            # Classify all fake batch with D\n",
    "            output = netD(fake.detach()).view(-1)\n",
    "            # Calculate D's loss on the all-fake batch\n",
    "            errD_fake = criterion(output, label)\n",
    "            # Calculate the gradients for this batch, accumulated (summed) with previous gradients\n",
    "            errD_fake.backward()\n",
    "            D_G_z1 = output.mean().item()\n",
    "            # Compute error of D as sum over the fake and the real batches\n",
    "            errD = errD_real + errD_fake\n",
    "            # Update D\n",
    "            optimizerD.step()\n",
    "\n",
    "            ############################\n",
    "            # (2) Update G network: maximize log(D(G(z)))\n",
    "            ###########################\n",
    "            netG.zero_grad()\n",
    "            label.fill_(real_label)  # fake labels are real for generator cost\n",
    "            # Since we just updated D, perform another forward pass of all-fake batch through D\n",
    "            output = netD(fake).view(-1)\n",
    "            # Calculate G's loss based on this output\n",
    "            errG = criterion(output, label)\n",
    "            # Calculate gradients for G\n",
    "            errG.backward()\n",
    "            D_G_z2 = output.mean().item()\n",
    "            # Update G\n",
    "            optimizerG.step()\n",
    "\n",
    "            # Output training stats\n",
    "            if i % 50 == 0:\n",
    "                print('[%d/%d][%d/%d]\\tLoss_D: %.4f\\tLoss_G: %.4f\\tD(x): %.4f\\tD(G(z)): %.4f / %.4f'\n",
    "                      % (epoch, num_epochs, i, len(dataloader),\n",
    "                         errD.item(), errG.item(), D_x, D_G_z1, D_G_z2))\n",
    "\n",
    "            # Save Losses for plotting later\n",
    "            G_losses.append(errG.item())\n",
    "            D_losses.append(errD.item())\n",
    "\n",
    "            # Check how the generator is doing by saving G's output on fixed_noise\n",
    "            if (iters % 500 == 0) or ((epoch == num_epochs-1) and (i == len(dataloader)-1)):\n",
    "                with torch.no_grad():\n",
    "                    fake = netG(fixed_noise).detach().cpu()\n",
    "                img_list.append(vutils.make_grid(fake, padding=2, normalize=True))\n",
    "\n",
    "            iters += 1\n",
    "\n",
    "        # Report to Optuna\n",
    "        trial.report(errD.item(), epoch)\n",
    "        if trial.should_prune():\n",
    "            raise optuna.exceptions.TrialPruned()\n",
    "    return errD.item()"
   ]
  },
  {
   "cell_type": "markdown",
   "id": "fa3f3952",
   "metadata": {},
   "source": [
    "### Start Coiled cluster using package_sync w/ GPU workers"
   ]
  },
  {
   "cell_type": "code",
   "execution_count": 2,
   "id": "45d8096d",
   "metadata": {},
   "outputs": [
    {
     "data": {
      "application/vnd.jupyter.widget-view+json": {
       "model_id": "5bbc4930f27444b586de5a3287a8929f",
       "version_major": 2,
       "version_minor": 0
      },
      "text/plain": [
       "Output()"
      ]
     },
     "metadata": {},
     "output_type": "display_data"
    },
    {
     "data": {
      "text/html": [
       "<pre style=\"white-space:pre;overflow-x:auto;line-height:normal;font-family:Menlo,'DejaVu Sans Mono',consolas,'Courier New',monospace\">jupyter-server-ydoc 0.1.4 has requirement jupyter-ydoc==0.1.13, but you have jupyter-ydoc 1.0.1.\n",
       "</pre>\n"
      ],
      "text/plain": [
       "jupyter-server-ydoc 0.1.4 has requirement jupyter-ydoc==0.1.13, but you have jupyter-ydoc 1.0.1.\n"
      ]
     },
     "metadata": {},
     "output_type": "display_data"
    },
    {
     "data": {
      "text/html": [
       "<pre style=\"white-space:pre;overflow-x:auto;line-height:normal;font-family:Menlo,'DejaVu Sans Mono',consolas,'Courier New',monospace\">coiled-runtime 0.2.1 has requirement cloudpickle==2.2.1, but you have cloudpickle 2.2.0.\n",
       "</pre>\n"
      ],
      "text/plain": [
       "coiled-runtime 0.2.1 has requirement cloudpickle==2.2.1, but you have cloudpickle 2.2.0.\n"
      ]
     },
     "metadata": {},
     "output_type": "display_data"
    },
    {
     "data": {
      "text/html": [
       "<pre style=\"white-space:pre;overflow-x:auto;line-height:normal;font-family:Menlo,'DejaVu Sans Mono',consolas,'Courier New',monospace\">coiled-runtime 0.2.1 has requirement dask==2023.3.2, but you have dask 2022.11.1.\n",
       "</pre>\n"
      ],
      "text/plain": [
       "coiled-runtime 0.2.1 has requirement dask==2023.3.2, but you have dask 2022.11.1.\n"
      ]
     },
     "metadata": {},
     "output_type": "display_data"
    },
    {
     "data": {
      "text/html": [
       "<pre style=\"white-space:pre;overflow-x:auto;line-height:normal;font-family:Menlo,'DejaVu Sans Mono',consolas,'Courier New',monospace\">coiled-runtime 0.2.1 has requirement dask-labextension==6.1.0, but you have dask-labextension 6.0.0.\n",
       "</pre>\n"
      ],
      "text/plain": [
       "coiled-runtime 0.2.1 has requirement dask-labextension==6.1.0, but you have dask-labextension 6.0.0.\n"
      ]
     },
     "metadata": {},
     "output_type": "display_data"
    },
    {
     "data": {
      "text/html": [
       "<pre style=\"white-space:pre;overflow-x:auto;line-height:normal;font-family:Menlo,'DejaVu Sans Mono',consolas,'Courier New',monospace\">coiled-runtime 0.2.1 has requirement dask-ml==2023.3.24, but you have dask-ml 2022.5.27.\n",
       "</pre>\n"
      ],
      "text/plain": [
       "coiled-runtime 0.2.1 has requirement dask-ml==2023.3.24, but you have dask-ml 2022.5.27.\n"
      ]
     },
     "metadata": {},
     "output_type": "display_data"
    },
    {
     "data": {
      "text/html": [
       "<pre style=\"white-space:pre;overflow-x:auto;line-height:normal;font-family:Menlo,'DejaVu Sans Mono',consolas,'Courier New',monospace\">coiled-runtime 0.2.1 has requirement distributed==2023.3.2, but you have distributed 2022.11.1.\n",
       "</pre>\n"
      ],
      "text/plain": [
       "coiled-runtime 0.2.1 has requirement distributed==2023.3.2, but you have distributed 2022.11.1.\n"
      ]
     },
     "metadata": {},
     "output_type": "display_data"
    },
    {
     "data": {
      "text/html": [
       "<pre style=\"white-space:pre;overflow-x:auto;line-height:normal;font-family:Menlo,'DejaVu Sans Mono',consolas,'Courier New',monospace\">coiled-runtime 0.2.1 has requirement fsspec==2023.3.0, but you have fsspec 2022.11.0.\n",
       "</pre>\n"
      ],
      "text/plain": [
       "coiled-runtime 0.2.1 has requirement fsspec==2023.3.0, but you have fsspec 2022.11.0.\n"
      ]
     },
     "metadata": {},
     "output_type": "display_data"
    },
    {
     "data": {
      "text/html": [
       "<pre style=\"white-space:pre;overflow-x:auto;line-height:normal;font-family:Menlo,'DejaVu Sans Mono',consolas,'Courier New',monospace\">coiled-runtime 0.2.1 has requirement gcsfs==2023.3.0, but you have gcsfs 2022.11.0.\n",
       "</pre>\n"
      ],
      "text/plain": [
       "coiled-runtime 0.2.1 has requirement gcsfs==2023.3.0, but you have gcsfs 2022.11.0.\n"
      ]
     },
     "metadata": {},
     "output_type": "display_data"
    },
    {
     "data": {
      "text/html": [
       "<pre style=\"white-space:pre;overflow-x:auto;line-height:normal;font-family:Menlo,'DejaVu Sans Mono',consolas,'Courier New',monospace\">coiled-runtime 0.2.1 has requirement ipywidgets==8.0.4, but you have ipywidgets 7.7.2.\n",
       "</pre>\n"
      ],
      "text/plain": [
       "coiled-runtime 0.2.1 has requirement ipywidgets==8.0.4, but you have ipywidgets 7.7.2.\n"
      ]
     },
     "metadata": {},
     "output_type": "display_data"
    },
    {
     "data": {
      "text/html": [
       "<pre style=\"white-space:pre;overflow-x:auto;line-height:normal;font-family:Menlo,'DejaVu Sans Mono',consolas,'Courier New',monospace\">coiled-runtime 0.2.1 has requirement jupyterlab==3.6.2, but you have jupyterlab 3.5.0.\n",
       "</pre>\n"
      ],
      "text/plain": [
       "coiled-runtime 0.2.1 has requirement jupyterlab==3.6.2, but you have jupyterlab 3.5.0.\n"
      ]
     },
     "metadata": {},
     "output_type": "display_data"
    },
    {
     "data": {
      "text/html": [
       "<pre style=\"white-space:pre;overflow-x:auto;line-height:normal;font-family:Menlo,'DejaVu Sans Mono',consolas,'Courier New',monospace\">coiled-runtime 0.2.1 has requirement lz4==4.3.2, but you have lz4 4.0.2.\n",
       "</pre>\n"
      ],
      "text/plain": [
       "coiled-runtime 0.2.1 has requirement lz4==4.3.2, but you have lz4 4.0.2.\n"
      ]
     },
     "metadata": {},
     "output_type": "display_data"
    },
    {
     "data": {
      "text/html": [
       "<pre style=\"white-space:pre;overflow-x:auto;line-height:normal;font-family:Menlo,'DejaVu Sans Mono',consolas,'Courier New',monospace\">coiled-runtime 0.2.1 has requirement msgpack==1.0.5, but you have msgpack 1.0.4.\n",
       "</pre>\n"
      ],
      "text/plain": [
       "coiled-runtime 0.2.1 has requirement msgpack==1.0.5, but you have msgpack 1.0.4.\n"
      ]
     },
     "metadata": {},
     "output_type": "display_data"
    },
    {
     "data": {
      "text/html": [
       "<pre style=\"white-space:pre;overflow-x:auto;line-height:normal;font-family:Menlo,'DejaVu Sans Mono',consolas,'Courier New',monospace\">coiled-runtime 0.2.1 has requirement numba==0.56.4, but you have numba 0.56.3.\n",
       "</pre>\n"
      ],
      "text/plain": [
       "coiled-runtime 0.2.1 has requirement numba==0.56.4, but you have numba 0.56.3.\n"
      ]
     },
     "metadata": {},
     "output_type": "display_data"
    },
    {
     "data": {
      "text/html": [
       "<pre style=\"white-space:pre;overflow-x:auto;line-height:normal;font-family:Menlo,'DejaVu Sans Mono',consolas,'Courier New',monospace\">coiled-runtime 0.2.1 has requirement pandas==1.5.3, but you have pandas 1.5.2.\n",
       "</pre>\n"
      ],
      "text/plain": [
       "coiled-runtime 0.2.1 has requirement pandas==1.5.3, but you have pandas 1.5.2.\n"
      ]
     },
     "metadata": {},
     "output_type": "display_data"
    },
    {
     "data": {
      "text/html": [
       "<pre style=\"white-space:pre;overflow-x:auto;line-height:normal;font-family:Menlo,'DejaVu Sans Mono',consolas,'Courier New',monospace\">coiled-runtime 0.2.1 has requirement pyarrow==11.0.0, but you have pyarrow 10.0.1.\n",
       "</pre>\n"
      ],
      "text/plain": [
       "coiled-runtime 0.2.1 has requirement pyarrow==11.0.0, but you have pyarrow 10.0.1.\n"
      ]
     },
     "metadata": {},
     "output_type": "display_data"
    },
    {
     "data": {
      "text/html": [
       "<pre style=\"white-space:pre;overflow-x:auto;line-height:normal;font-family:Menlo,'DejaVu Sans Mono',consolas,'Courier New',monospace\">coiled-runtime 0.2.1 has requirement pynvml==11.5.0, but you have pynvml 11.4.1.\n",
       "</pre>\n"
      ],
      "text/plain": [
       "coiled-runtime 0.2.1 has requirement pynvml==11.5.0, but you have pynvml 11.4.1.\n"
      ]
     },
     "metadata": {},
     "output_type": "display_data"
    },
    {
     "data": {
      "text/html": [
       "<pre style=\"white-space:pre;overflow-x:auto;line-height:normal;font-family:Menlo,'DejaVu Sans Mono',consolas,'Courier New',monospace\">coiled-runtime 0.2.1 has requirement s3fs==2023.3.0, but you have s3fs 2022.11.0.\n",
       "</pre>\n"
      ],
      "text/plain": [
       "coiled-runtime 0.2.1 has requirement s3fs==2023.3.0, but you have s3fs 2022.11.0.\n"
      ]
     },
     "metadata": {},
     "output_type": "display_data"
    },
    {
     "data": {
      "text/html": [
       "<pre style=\"white-space:pre;overflow-x:auto;line-height:normal;font-family:Menlo,'DejaVu Sans Mono',consolas,'Courier New',monospace\">coiled-runtime 0.2.1 has requirement scikit-learn==1.2.2, but you have scikit-learn 1.1.3.\n",
       "</pre>\n"
      ],
      "text/plain": [
       "coiled-runtime 0.2.1 has requirement scikit-learn==1.2.2, but you have scikit-learn 1.1.3.\n"
      ]
     },
     "metadata": {},
     "output_type": "display_data"
    },
    {
     "data": {
      "text/html": [
       "<pre style=\"white-space:pre;overflow-x:auto;line-height:normal;font-family:Menlo,'DejaVu Sans Mono',consolas,'Courier New',monospace\">coiled-runtime 0.2.1 has requirement sqlalchemy==1.4.46, but you have sqlalchemy 2.0.9.\n",
       "</pre>\n"
      ],
      "text/plain": [
       "coiled-runtime 0.2.1 has requirement sqlalchemy==1.4.46, but you have sqlalchemy 2.0.9.\n"
      ]
     },
     "metadata": {},
     "output_type": "display_data"
    },
    {
     "data": {
      "text/html": [
       "<pre style=\"white-space:pre;overflow-x:auto;line-height:normal;font-family:Menlo,'DejaVu Sans Mono',consolas,'Courier New',monospace\">coiled-runtime 0.2.1 has requirement tornado==6.2, but you have tornado 6.1.\n",
       "</pre>\n"
      ],
      "text/plain": [
       "coiled-runtime 0.2.1 has requirement tornado==6.2, but you have tornado 6.1.\n"
      ]
     },
     "metadata": {},
     "output_type": "display_data"
    },
    {
     "data": {
      "text/html": [
       "<pre style=\"white-space:pre;overflow-x:auto;line-height:normal;font-family:Menlo,'DejaVu Sans Mono',consolas,'Courier New',monospace\">coiled-runtime 0.2.1 has requirement xarray==2023.1.0, but you have xarray 2022.11.0.\n",
       "</pre>\n"
      ],
      "text/plain": [
       "coiled-runtime 0.2.1 has requirement xarray==2023.1.0, but you have xarray 2022.11.0.\n"
      ]
     },
     "metadata": {},
     "output_type": "display_data"
    },
    {
     "data": {
      "text/html": [
       "<pre style=\"white-space:pre;overflow-x:auto;line-height:normal;font-family:Menlo,'DejaVu Sans Mono',consolas,'Courier New',monospace\">coiled-runtime 0.2.1 has requirement xgboost==1.7.4, but you have xgboost 1.7.1.\n",
       "</pre>\n"
      ],
      "text/plain": [
       "coiled-runtime 0.2.1 has requirement xgboost==1.7.4, but you have xgboost 1.7.1.\n"
      ]
     },
     "metadata": {},
     "output_type": "display_data"
    },
    {
     "data": {
      "text/html": [
       "<pre style=\"white-space:pre;overflow-x:auto;line-height:normal;font-family:Menlo,'DejaVu Sans Mono',consolas,'Courier New',monospace\">coiled-runtime 0.2.1 has requirement zarr==2.14.2, but you have zarr 2.13.3.\n",
       "</pre>\n"
      ],
      "text/plain": [
       "coiled-runtime 0.2.1 has requirement zarr==2.14.2, but you have zarr 2.13.3.\n"
      ]
     },
     "metadata": {},
     "output_type": "display_data"
    },
    {
     "data": {
      "text/html": [
       "<pre style=\"white-space:pre;overflow-x:auto;line-height:normal;font-family:Menlo,'DejaVu Sans Mono',consolas,'Courier New',monospace\">Package - jupyter-server-ydoc, Pip check had the following issues that need resolving: \n",
       "jupyter-server-ydoc 0.1.4 has requirement jupyter-ydoc==0.1.13, but you have jupyter-ydoc 1.0.1.\n",
       "</pre>\n"
      ],
      "text/plain": [
       "Package - jupyter-server-ydoc, Pip check had the following issues that need resolving: \n",
       "jupyter-server-ydoc 0.1.4 has requirement jupyter-ydoc==0.1.13, but you have jupyter-ydoc 1.0.1.\n"
      ]
     },
     "metadata": {},
     "output_type": "display_data"
    },
    {
     "data": {
      "text/html": [
       "<pre style=\"white-space:pre;overflow-x:auto;line-height:normal;font-family:Menlo,'DejaVu Sans Mono',consolas,'Courier New',monospace\"></pre>\n"
      ],
      "text/plain": []
     },
     "metadata": {},
     "output_type": "display_data"
    },
    {
     "data": {
      "text/html": [
       "<pre style=\"white-space:pre;overflow-x:auto;line-height:normal;font-family:Menlo,'DejaVu Sans Mono',consolas,'Courier New',monospace\">╭──────────────────────────────────── <span style=\"color: #800000; text-decoration-color: #800000; font-weight: bold\">Not Synced with Cluster</span> ─────────────────────────────────────╮\n",
       "│                       ╷                                                              ╷           │\n",
       "│  <span style=\"font-weight: bold\"> Package             </span>│<span style=\"font-weight: bold\"> Error                                                        </span>│<span style=\"font-weight: bold\"> Risk    </span>  │\n",
       "│ ╶─────────────────────┼──────────────────────────────────────────────────────────────┼─────────╴ │\n",
       "│   jupyter-server-ydoc │ Pip check had the following issues that need resolving:      │ Warning   │\n",
       "│                       │ jupyter-server-ydoc 0.1.4 has requirement                    │           │\n",
       "│                       │ jupyter-ydoc==0.1.13, but you have jupyter-ydoc 1.0.1.       │           │\n",
       "│   coiled-runtime      │ Pip check had the following issues that need resolving:      │           │\n",
       "│                       │ coiled-runtime 0.2.1 has requirement cloudpickle==2.2.1, but │           │\n",
       "│                       │ you have cloudpickle 2.2.0.                                  │           │\n",
       "│                       │ coiled-runtime 0.2.1 has requirement dask==2023.3.2, but you │           │\n",
       "│                       │ have dask 2022.11.1.                                         │           │\n",
       "│                       │ coiled-runtime 0.2.1 has requirement                         │           │\n",
       "│                       │ dask-labextension==6.1.0, but you have dask-labextension     │           │\n",
       "│                       │ 6.0.0.                                                       │           │\n",
       "│                       │ coiled-runtime 0.2.1 has requirement dask-ml==2023.3.24, but │           │\n",
       "│                       │ you have dask-ml 2022.5.27.                                  │           │\n",
       "│                       │ coiled-runtime 0.2.1 has requirement distributed==2023.3.2,  │           │\n",
       "│                       │ but you have distributed 2022.11.1.                          │           │\n",
       "│                       │ coiled-runtime 0.2.1 has requirement fsspec==2023.3.0, but   │           │\n",
       "│                       │ you have fsspec 2022.11.0.                                   │           │\n",
       "│                       │ coiled-runtime 0.2.1 has requirement gcsfs==2023.3.0, but    │           │\n",
       "│                       │ you have gcsfs 2022.11.0.                                    │           │\n",
       "│                       │ coiled-runtime 0.2.1 has requirement ipywidgets==8.0.4, but  │           │\n",
       "│                       │ you have ipywidgets 7.7.2.                                   │           │\n",
       "│                       │ coiled-runtime 0.2.1 has requirement jupyterlab==3.6.2, but  │           │\n",
       "│                       │ you have jupyterlab 3.5.0.                                   │           │\n",
       "│                       │ coiled-runtime 0.2.1 has requirement lz4==4.3.2, but you     │           │\n",
       "│                       │ have lz4 4.0.2.                                              │           │\n",
       "│                       │ coiled-runtime 0.2.1 has requirement msgpack==1.0.5, but you │           │\n",
       "│                       │ have msgpack 1.0.4.                                          │           │\n",
       "│                       │ coiled-runtime 0.2.1 has requirement numba==0.56.4, but you  │           │\n",
       "│                       │ have numba 0.56.3.                                           │           │\n",
       "│                       │ coiled-runtime 0.2.1 has requirement pandas==1.5.3, but you  │           │\n",
       "│                       │ have pandas 1.5.2.                                           │           │\n",
       "│                       │ coiled-runtime 0.2.1 has requirement pyarrow==11.0.0, but    │           │\n",
       "│                       │ you have pyarrow 10.0.1.                                     │           │\n",
       "│                       │ coiled-runtime 0.2.1 has requirement pynvml==11.5.0, but you │           │\n",
       "│                       │ have pynvml 11.4.1.                                          │           │\n",
       "│                       │ coiled-runtime 0.2.1 has requirement s3fs==2023.3.0, but you │           │\n",
       "│                       │ have s3fs 2022.11.0.                                         │           │\n",
       "│                       │ coiled-runtime 0.2.1 has requirement scikit-learn==1.2.2,    │           │\n",
       "│                       │ but you have scikit-learn 1.1.3.                             │           │\n",
       "│                       │ coiled-runtime 0.2.1 has requirement sqlalchemy==1.4.46, but │           │\n",
       "│                       │ you have sqlalchemy 2.0.9.                                   │           │\n",
       "│                       │ coiled-runtime 0.2.1 has requirement tornado==6.2, but you   │           │\n",
       "│                       │ have tornado 6.1.                                            │           │\n",
       "│                       │ coiled-runtime 0.2.1 has requirement xarray==2023.1.0, but   │           │\n",
       "│                       │ you have xarray 2022.11.0.                                   │           │\n",
       "│                       │ coiled-runtime 0.2.1 has requirement xgboost==1.7.4, but you │           │\n",
       "│                       │ have xgboost 1.7.1.                                          │           │\n",
       "│                       │ coiled-runtime 0.2.1 has requirement zarr==2.14.2, but you   │           │\n",
       "│                       │ have zarr 2.13.3.                                            │           │\n",
       "│                       ╵                                                              ╵           │\n",
       "╰──────────────────────────────────────────────────────────────────────────────────────────────────╯\n",
       "</pre>\n"
      ],
      "text/plain": [
       "╭──────────────────────────────────── \u001b[1;31mNot Synced with Cluster\u001b[0m ─────────────────────────────────────╮\n",
       "│                       ╷                                                              ╷           │\n",
       "│  \u001b[1m \u001b[0m\u001b[1mPackage            \u001b[0m\u001b[1m \u001b[0m│\u001b[1m \u001b[0m\u001b[1mError                                                       \u001b[0m\u001b[1m \u001b[0m│\u001b[1m \u001b[0m\u001b[1mRisk   \u001b[0m\u001b[1m \u001b[0m  │\n",
       "│ ╶─────────────────────┼──────────────────────────────────────────────────────────────┼─────────╴ │\n",
       "│   jupyter-server-ydoc │ Pip check had the following issues that need resolving:      │ Warning   │\n",
       "│                       │ jupyter-server-ydoc 0.1.4 has requirement                    │           │\n",
       "│                       │ jupyter-ydoc==0.1.13, but you have jupyter-ydoc 1.0.1.       │           │\n",
       "│   coiled-runtime      │ Pip check had the following issues that need resolving:      │           │\n",
       "│                       │ coiled-runtime 0.2.1 has requirement cloudpickle==2.2.1, but │           │\n",
       "│                       │ you have cloudpickle 2.2.0.                                  │           │\n",
       "│                       │ coiled-runtime 0.2.1 has requirement dask==2023.3.2, but you │           │\n",
       "│                       │ have dask 2022.11.1.                                         │           │\n",
       "│                       │ coiled-runtime 0.2.1 has requirement                         │           │\n",
       "│                       │ dask-labextension==6.1.0, but you have dask-labextension     │           │\n",
       "│                       │ 6.0.0.                                                       │           │\n",
       "│                       │ coiled-runtime 0.2.1 has requirement dask-ml==2023.3.24, but │           │\n",
       "│                       │ you have dask-ml 2022.5.27.                                  │           │\n",
       "│                       │ coiled-runtime 0.2.1 has requirement distributed==2023.3.2,  │           │\n",
       "│                       │ but you have distributed 2022.11.1.                          │           │\n",
       "│                       │ coiled-runtime 0.2.1 has requirement fsspec==2023.3.0, but   │           │\n",
       "│                       │ you have fsspec 2022.11.0.                                   │           │\n",
       "│                       │ coiled-runtime 0.2.1 has requirement gcsfs==2023.3.0, but    │           │\n",
       "│                       │ you have gcsfs 2022.11.0.                                    │           │\n",
       "│                       │ coiled-runtime 0.2.1 has requirement ipywidgets==8.0.4, but  │           │\n",
       "│                       │ you have ipywidgets 7.7.2.                                   │           │\n",
       "│                       │ coiled-runtime 0.2.1 has requirement jupyterlab==3.6.2, but  │           │\n",
       "│                       │ you have jupyterlab 3.5.0.                                   │           │\n",
       "│                       │ coiled-runtime 0.2.1 has requirement lz4==4.3.2, but you     │           │\n",
       "│                       │ have lz4 4.0.2.                                              │           │\n",
       "│                       │ coiled-runtime 0.2.1 has requirement msgpack==1.0.5, but you │           │\n",
       "│                       │ have msgpack 1.0.4.                                          │           │\n",
       "│                       │ coiled-runtime 0.2.1 has requirement numba==0.56.4, but you  │           │\n",
       "│                       │ have numba 0.56.3.                                           │           │\n",
       "│                       │ coiled-runtime 0.2.1 has requirement pandas==1.5.3, but you  │           │\n",
       "│                       │ have pandas 1.5.2.                                           │           │\n",
       "│                       │ coiled-runtime 0.2.1 has requirement pyarrow==11.0.0, but    │           │\n",
       "│                       │ you have pyarrow 10.0.1.                                     │           │\n",
       "│                       │ coiled-runtime 0.2.1 has requirement pynvml==11.5.0, but you │           │\n",
       "│                       │ have pynvml 11.4.1.                                          │           │\n",
       "│                       │ coiled-runtime 0.2.1 has requirement s3fs==2023.3.0, but you │           │\n",
       "│                       │ have s3fs 2022.11.0.                                         │           │\n",
       "│                       │ coiled-runtime 0.2.1 has requirement scikit-learn==1.2.2,    │           │\n",
       "│                       │ but you have scikit-learn 1.1.3.                             │           │\n",
       "│                       │ coiled-runtime 0.2.1 has requirement sqlalchemy==1.4.46, but │           │\n",
       "│                       │ you have sqlalchemy 2.0.9.                                   │           │\n",
       "│                       │ coiled-runtime 0.2.1 has requirement tornado==6.2, but you   │           │\n",
       "│                       │ have tornado 6.1.                                            │           │\n",
       "│                       │ coiled-runtime 0.2.1 has requirement xarray==2023.1.0, but   │           │\n",
       "│                       │ you have xarray 2022.11.0.                                   │           │\n",
       "│                       │ coiled-runtime 0.2.1 has requirement xgboost==1.7.4, but you │           │\n",
       "│                       │ have xgboost 1.7.1.                                          │           │\n",
       "│                       │ coiled-runtime 0.2.1 has requirement zarr==2.14.2, but you   │           │\n",
       "│                       │ have zarr 2.13.3.                                            │           │\n",
       "│                       ╵                                                              ╵           │\n",
       "╰──────────────────────────────────────────────────────────────────────────────────────────────────╯\n"
      ]
     },
     "metadata": {},
     "output_type": "display_data"
    },
    {
     "data": {
      "application/vnd.jupyter.widget-view+json": {
       "model_id": "0194b9d1a0434a3d8861e845800d416d",
       "version_major": 2,
       "version_minor": 0
      },
      "text/plain": [
       "Output()"
      ]
     },
     "metadata": {},
     "output_type": "display_data"
    },
    {
     "data": {
      "text/html": [
       "<pre style=\"white-space:pre;overflow-x:auto;line-height:normal;font-family:Menlo,'DejaVu Sans Mono',consolas,'Courier New',monospace\"></pre>\n"
      ],
      "text/plain": []
     },
     "metadata": {},
     "output_type": "display_data"
    },
    {
     "name": "stderr",
     "output_type": "stream",
     "text": [
      "/home/milesg/mambaforge/envs/coiled-benchmarks/lib/python3.10/site-packages/distributed/client.py:1361: VersionMismatchWarning: Mismatched versions found\n",
      "\n",
      "+---------+--------+-----------+---------+\n",
      "| Package | Client | Scheduler | Workers |\n",
      "+---------+--------+-----------+---------+\n",
      "| pandas  | 1.5.2  | 1.5.3     | 1.5.3   |\n",
      "+---------+--------+-----------+---------+\n",
      "  warnings.warn(version_module.VersionMismatchWarning(msg[0][\"warning\"]))\n"
     ]
    }
   ],
   "source": [
    "import coiled\n",
    "\n",
    "cluster = coiled.Cluster(\n",
    "    name=\"pytorch-optuna-milesg1\",\n",
    "    n_workers=8,\n",
    "    worker_gpu=True,\n",
    "    worker_options={\"nthreads\": 1},\n",
    ")\n",
    "\n",
    "client = cluster.get_client()"
   ]
  },
  {
   "cell_type": "markdown",
   "id": "e0bc93dd",
   "metadata": {},
   "source": [
    "### TODO: With package_sync, it won't install pytorch with Cuda, so we need to re-install it on the workers\n"
   ]
  },
  {
   "cell_type": "code",
   "execution_count": null,
   "id": "d6eb929f",
   "metadata": {},
   "outputs": [],
   "source": [
    "from distributed import PipInstall\n",
    "\n",
    "plugin = PipInstall(['torch', 'torchvision', 'torchaudio'], pip_options=['--force-reinstall'])\n",
    "client.register_worker_plugin(plugin)\n",
    "\n",
    "workers = list(client.scheduler_info()['workers'].keys())\n",
    "client.restart_workers(workers)"
   ]
  },
  {
   "cell_type": "markdown",
   "id": "d9d03fb7",
   "metadata": {},
   "source": [
    "### Perform hyperparameter tuning using Dask and Distributed on Coiled"
   ]
  },
  {
   "cell_type": "code",
   "execution_count": 39,
   "id": "d3122981",
   "metadata": {},
   "outputs": [
    {
     "name": "stderr",
     "output_type": "stream",
     "text": [
      "/tmp/ipykernel_11922/3321613542.py:3: ExperimentalWarning: DaskStorage is experimental (supported from v3.1.0). The interface can change in the future.\n",
      "  study = optuna.create_study(direction='minimize', storage=DaskStorage(client=client))\n"
     ]
    },
    {
     "data": {
      "text/plain": [
       "DoneAndNotDoneFutures(done={<Future: finished, type: NoneType, key: optimize-0a587d14-3cca-46d3-93cd-83764967387c>, <Future: finished, type: NoneType, key: optimize-54ae592c-3000-49aa-a27c-563088558913>, <Future: finished, type: NoneType, key: optimize-36739789-28f0-469f-84f1-a95d3fab7128>, <Future: finished, type: NoneType, key: optimize-e36b6a72-d5d7-40b0-9f40-119d3e011ab1>, <Future: finished, type: NoneType, key: optimize-d5e36dfd-9b1b-40ba-9a65-adf7f25ab0cb>, <Future: finished, type: NoneType, key: optimize-8a7b80c1-0ef3-4814-8774-7446550e5c54>, <Future: finished, type: NoneType, key: optimize-2de9015b-508d-410e-a53e-60e6fa9031f4>, <Future: finished, type: NoneType, key: optimize-b32c75b5-7c48-442c-ba7b-d6e623e361dd>}, not_done=set())"
      ]
     },
     "execution_count": 39,
     "metadata": {},
     "output_type": "execute_result"
    }
   ],
   "source": [
    "from optuna.integration.dask import DaskStorage\n",
    "\n",
    "study = optuna.create_study(direction='minimize', storage=DaskStorage(client=client))\n",
    "n_trials = 8  # Set to your heart's desire, patience and cluster size. :)\n",
    "\n",
    "jobs = [\n",
    "    client.submit(study.optimize, objective, n_trials=1, pure=False)\n",
    "    for _ in range(n_trials)\n",
    "]\n",
    "wait(jobs)"
   ]
  },
  {
   "cell_type": "code",
   "execution_count": 37,
   "id": "a91e308a",
   "metadata": {},
   "outputs": [
    {
     "name": "stderr",
     "output_type": "stream",
     "text": [
      "/tmp/ipykernel_11922/2169753959.py:3: ExperimentalWarning: DaskStorage is experimental (supported from v3.1.0). The interface can change in the future.\n",
      "  study = optuna.create_study(direction='minimize', storage=DaskStorage(client=client))\n"
     ]
    }
   ],
   "source": [
    "from optuna.integration.dask import DaskStorage\n",
    "\n",
    "study = optuna.create_study(direction='minimize', storage=DaskStorage(client=client))\n",
    "client.submit(study.optimize, objective, n_trials=1, pure=False).result()"
   ]
  },
  {
   "cell_type": "code",
   "execution_count": 38,
   "id": "e77b412f",
   "metadata": {},
   "outputs": [
    {
     "data": {
      "text/html": [
       "<div>\n",
       "    <div style=\"width: 24px; height: 24px; background-color: #e1e1e1; border: 3px solid #9D9D9D; border-radius: 5px; position: absolute;\"> </div>\n",
       "    <div style=\"margin-left: 48px;\">\n",
       "        <h3 style=\"margin-bottom: 0px;\">Client</h3>\n",
       "        <p style=\"color: #9D9D9D; margin-bottom: 0px;\">Client-ad32990e-daa4-11ed-ae92-c4bde517f4df</p>\n",
       "        <table style=\"width: 100%; text-align: left;\">\n",
       "\n",
       "        <tr>\n",
       "        \n",
       "            <td style=\"text-align: left;\"><strong>Connection method:</strong> Cluster object</td>\n",
       "            <td style=\"text-align: left;\"><strong>Cluster type:</strong> coiled.ClusterBeta</td>\n",
       "        \n",
       "        </tr>\n",
       "\n",
       "        \n",
       "            <tr>\n",
       "                <td style=\"text-align: left;\">\n",
       "                    <strong>Dashboard: </strong> <a href=\"https://cluster-ijewz.dask.host?token=bVIGqia_N7Doe8cZ\" target=\"_blank\">https://cluster-ijewz.dask.host?token=bVIGqia_N7Doe8cZ</a>\n",
       "                </td>\n",
       "                <td style=\"text-align: left;\"></td>\n",
       "            </tr>\n",
       "        \n",
       "\n",
       "        </table>\n",
       "\n",
       "        \n",
       "            <button style=\"margin-bottom: 12px;\" data-commandlinker-command=\"dask:populate-and-launch-layout\" data-commandlinker-args='{\"url\": \"https://cluster-ijewz.dask.host?token=bVIGqia_N7Doe8cZ\" }'>\n",
       "                Launch dashboard in JupyterLab\n",
       "            </button>\n",
       "        \n",
       "\n",
       "        \n",
       "            <details>\n",
       "            <summary style=\"margin-bottom: 20px;\"><h3 style=\"display: inline;\">Cluster Info</h3></summary>\n",
       "            <div class=\"jp-RenderedHTMLCommon jp-RenderedHTML jp-mod-trusted jp-OutputArea-output\">\n",
       "    <div style=\"width: 24px; height: 24px; background-color: #e1e1e1; border: 3px solid #9D9D9D; border-radius: 5px; position: absolute;\">\n",
       "    </div>\n",
       "    <div style=\"margin-left: 48px;\">\n",
       "        <h3 style=\"margin-bottom: 0px; margin-top: 0px;\">ClusterBeta</h3>\n",
       "        <p style=\"color: #9D9D9D; margin-bottom: 0px;\">pytorch-optuna-milesg1</p>\n",
       "        <table style=\"width: 100%; text-align: left;\">\n",
       "            <tr>\n",
       "                <td style=\"text-align: left;\">\n",
       "                    <strong>Dashboard:</strong> <a href=\"https://cluster-ijewz.dask.host?token=bVIGqia_N7Doe8cZ\" target=\"_blank\">https://cluster-ijewz.dask.host?token=bVIGqia_N7Doe8cZ</a>\n",
       "                </td>\n",
       "                <td style=\"text-align: left;\">\n",
       "                    <strong>Workers:</strong> 8\n",
       "                </td>\n",
       "            </tr>\n",
       "            <tr>\n",
       "                <td style=\"text-align: left;\">\n",
       "                    <strong>Total threads:</strong> 8\n",
       "                </td>\n",
       "                <td style=\"text-align: left;\">\n",
       "                    <strong>Total memory:</strong> 117.73 GiB\n",
       "                </td>\n",
       "            </tr>\n",
       "            \n",
       "        </table>\n",
       "\n",
       "        <details>\n",
       "            <summary style=\"margin-bottom: 20px;\">\n",
       "                <h3 style=\"display: inline;\">Scheduler Info</h3>\n",
       "            </summary>\n",
       "\n",
       "            <div style=\"\">\n",
       "    <div>\n",
       "        <div style=\"width: 24px; height: 24px; background-color: #FFF7E5; border: 3px solid #FF6132; border-radius: 5px; position: absolute;\"> </div>\n",
       "        <div style=\"margin-left: 48px;\">\n",
       "            <h3 style=\"margin-bottom: 0px;\">Scheduler</h3>\n",
       "            <p style=\"color: #9D9D9D; margin-bottom: 0px;\">Scheduler-b6d9331c-b63e-4010-b68c-ac294ec43811</p>\n",
       "            <table style=\"width: 100%; text-align: left;\">\n",
       "                <tr>\n",
       "                    <td style=\"text-align: left;\">\n",
       "                        <strong>Comm:</strong> tls://10.0.30.255:8786\n",
       "                    </td>\n",
       "                    <td style=\"text-align: left;\">\n",
       "                        <strong>Workers:</strong> 8\n",
       "                    </td>\n",
       "                </tr>\n",
       "                <tr>\n",
       "                    <td style=\"text-align: left;\">\n",
       "                        <strong>Dashboard:</strong> <a href=\"http://10.0.30.255:8787/status\" target=\"_blank\">http://10.0.30.255:8787/status</a>\n",
       "                    </td>\n",
       "                    <td style=\"text-align: left;\">\n",
       "                        <strong>Total threads:</strong> 8\n",
       "                    </td>\n",
       "                </tr>\n",
       "                <tr>\n",
       "                    <td style=\"text-align: left;\">\n",
       "                        <strong>Started:</strong> 33 minutes ago\n",
       "                    </td>\n",
       "                    <td style=\"text-align: left;\">\n",
       "                        <strong>Total memory:</strong> 117.73 GiB\n",
       "                    </td>\n",
       "                </tr>\n",
       "            </table>\n",
       "        </div>\n",
       "    </div>\n",
       "\n",
       "    <details style=\"margin-left: 48px;\">\n",
       "        <summary style=\"margin-bottom: 20px;\">\n",
       "            <h3 style=\"display: inline;\">Workers</h3>\n",
       "        </summary>\n",
       "\n",
       "        \n",
       "        <div style=\"margin-bottom: 20px;\">\n",
       "            <div style=\"width: 24px; height: 24px; background-color: #DBF5FF; border: 3px solid #4CC9FF; border-radius: 5px; position: absolute;\"> </div>\n",
       "            <div style=\"margin-left: 48px;\">\n",
       "            <details>\n",
       "                <summary>\n",
       "                    <h4 style=\"margin-bottom: 0px; display: inline;\">Worker: pytorch-optuna-milesg1-worker-1749f2f042</h4>\n",
       "                </summary>\n",
       "                <table style=\"width: 100%; text-align: left;\">\n",
       "                    <tr>\n",
       "                        <td style=\"text-align: left;\">\n",
       "                            <strong>Comm: </strong> tls://10.0.18.47:34767\n",
       "                        </td>\n",
       "                        <td style=\"text-align: left;\">\n",
       "                            <strong>Total threads: </strong> 1\n",
       "                        </td>\n",
       "                    </tr>\n",
       "                    <tr>\n",
       "                        <td style=\"text-align: left;\">\n",
       "                            <strong>Dashboard: </strong> <a href=\"http://10.0.18.47:8787/status\" target=\"_blank\">http://10.0.18.47:8787/status</a>\n",
       "                        </td>\n",
       "                        <td style=\"text-align: left;\">\n",
       "                            <strong>Memory: </strong> 14.72 GiB\n",
       "                        </td>\n",
       "                    </tr>\n",
       "                    <tr>\n",
       "                        <td style=\"text-align: left;\">\n",
       "                            <strong>Nanny: </strong> tls://10.0.18.47:42727\n",
       "                        </td>\n",
       "                        <td style=\"text-align: left;\"></td>\n",
       "                    </tr>\n",
       "                    <tr>\n",
       "                        <td colspan=\"2\" style=\"text-align: left;\">\n",
       "                            <strong>Local directory: </strong> /scratch/dask-worker-space/worker-m0pehvgi\n",
       "                        </td>\n",
       "                    </tr>\n",
       "\n",
       "                    \n",
       "                    <tr>\n",
       "                        <td style=\"text-align: left;\">\n",
       "                            <strong>GPU: </strong>Tesla T4\n",
       "                        </td>\n",
       "                        <td style=\"text-align: left;\">\n",
       "                            <strong>GPU memory: </strong> 15.00 GiB\n",
       "                        </td>\n",
       "                    </tr>\n",
       "                    \n",
       "\n",
       "                    \n",
       "\n",
       "                </table>\n",
       "            </details>\n",
       "            </div>\n",
       "        </div>\n",
       "        \n",
       "        <div style=\"margin-bottom: 20px;\">\n",
       "            <div style=\"width: 24px; height: 24px; background-color: #DBF5FF; border: 3px solid #4CC9FF; border-radius: 5px; position: absolute;\"> </div>\n",
       "            <div style=\"margin-left: 48px;\">\n",
       "            <details>\n",
       "                <summary>\n",
       "                    <h4 style=\"margin-bottom: 0px; display: inline;\">Worker: pytorch-optuna-milesg1-worker-2b5edcb695</h4>\n",
       "                </summary>\n",
       "                <table style=\"width: 100%; text-align: left;\">\n",
       "                    <tr>\n",
       "                        <td style=\"text-align: left;\">\n",
       "                            <strong>Comm: </strong> tls://10.0.20.99:41579\n",
       "                        </td>\n",
       "                        <td style=\"text-align: left;\">\n",
       "                            <strong>Total threads: </strong> 1\n",
       "                        </td>\n",
       "                    </tr>\n",
       "                    <tr>\n",
       "                        <td style=\"text-align: left;\">\n",
       "                            <strong>Dashboard: </strong> <a href=\"http://10.0.20.99:8787/status\" target=\"_blank\">http://10.0.20.99:8787/status</a>\n",
       "                        </td>\n",
       "                        <td style=\"text-align: left;\">\n",
       "                            <strong>Memory: </strong> 14.71 GiB\n",
       "                        </td>\n",
       "                    </tr>\n",
       "                    <tr>\n",
       "                        <td style=\"text-align: left;\">\n",
       "                            <strong>Nanny: </strong> tls://10.0.20.99:34831\n",
       "                        </td>\n",
       "                        <td style=\"text-align: left;\"></td>\n",
       "                    </tr>\n",
       "                    <tr>\n",
       "                        <td colspan=\"2\" style=\"text-align: left;\">\n",
       "                            <strong>Local directory: </strong> /scratch/dask-worker-space/worker-uu4p5c3h\n",
       "                        </td>\n",
       "                    </tr>\n",
       "\n",
       "                    \n",
       "                    <tr>\n",
       "                        <td style=\"text-align: left;\">\n",
       "                            <strong>GPU: </strong>Tesla T4\n",
       "                        </td>\n",
       "                        <td style=\"text-align: left;\">\n",
       "                            <strong>GPU memory: </strong> 15.00 GiB\n",
       "                        </td>\n",
       "                    </tr>\n",
       "                    \n",
       "\n",
       "                    \n",
       "\n",
       "                </table>\n",
       "            </details>\n",
       "            </div>\n",
       "        </div>\n",
       "        \n",
       "        <div style=\"margin-bottom: 20px;\">\n",
       "            <div style=\"width: 24px; height: 24px; background-color: #DBF5FF; border: 3px solid #4CC9FF; border-radius: 5px; position: absolute;\"> </div>\n",
       "            <div style=\"margin-left: 48px;\">\n",
       "            <details>\n",
       "                <summary>\n",
       "                    <h4 style=\"margin-bottom: 0px; display: inline;\">Worker: pytorch-optuna-milesg1-worker-7d7b0a57d5</h4>\n",
       "                </summary>\n",
       "                <table style=\"width: 100%; text-align: left;\">\n",
       "                    <tr>\n",
       "                        <td style=\"text-align: left;\">\n",
       "                            <strong>Comm: </strong> tls://10.0.28.58:41243\n",
       "                        </td>\n",
       "                        <td style=\"text-align: left;\">\n",
       "                            <strong>Total threads: </strong> 1\n",
       "                        </td>\n",
       "                    </tr>\n",
       "                    <tr>\n",
       "                        <td style=\"text-align: left;\">\n",
       "                            <strong>Dashboard: </strong> <a href=\"http://10.0.28.58:8787/status\" target=\"_blank\">http://10.0.28.58:8787/status</a>\n",
       "                        </td>\n",
       "                        <td style=\"text-align: left;\">\n",
       "                            <strong>Memory: </strong> 14.72 GiB\n",
       "                        </td>\n",
       "                    </tr>\n",
       "                    <tr>\n",
       "                        <td style=\"text-align: left;\">\n",
       "                            <strong>Nanny: </strong> tls://10.0.28.58:36741\n",
       "                        </td>\n",
       "                        <td style=\"text-align: left;\"></td>\n",
       "                    </tr>\n",
       "                    <tr>\n",
       "                        <td colspan=\"2\" style=\"text-align: left;\">\n",
       "                            <strong>Local directory: </strong> /scratch/dask-worker-space/worker-925r__7d\n",
       "                        </td>\n",
       "                    </tr>\n",
       "\n",
       "                    \n",
       "                    <tr>\n",
       "                        <td style=\"text-align: left;\">\n",
       "                            <strong>GPU: </strong>Tesla T4\n",
       "                        </td>\n",
       "                        <td style=\"text-align: left;\">\n",
       "                            <strong>GPU memory: </strong> 15.00 GiB\n",
       "                        </td>\n",
       "                    </tr>\n",
       "                    \n",
       "\n",
       "                    \n",
       "\n",
       "                </table>\n",
       "            </details>\n",
       "            </div>\n",
       "        </div>\n",
       "        \n",
       "        <div style=\"margin-bottom: 20px;\">\n",
       "            <div style=\"width: 24px; height: 24px; background-color: #DBF5FF; border: 3px solid #4CC9FF; border-radius: 5px; position: absolute;\"> </div>\n",
       "            <div style=\"margin-left: 48px;\">\n",
       "            <details>\n",
       "                <summary>\n",
       "                    <h4 style=\"margin-bottom: 0px; display: inline;\">Worker: pytorch-optuna-milesg1-worker-a206ea5bca</h4>\n",
       "                </summary>\n",
       "                <table style=\"width: 100%; text-align: left;\">\n",
       "                    <tr>\n",
       "                        <td style=\"text-align: left;\">\n",
       "                            <strong>Comm: </strong> tls://10.0.27.58:43841\n",
       "                        </td>\n",
       "                        <td style=\"text-align: left;\">\n",
       "                            <strong>Total threads: </strong> 1\n",
       "                        </td>\n",
       "                    </tr>\n",
       "                    <tr>\n",
       "                        <td style=\"text-align: left;\">\n",
       "                            <strong>Dashboard: </strong> <a href=\"http://10.0.27.58:8787/status\" target=\"_blank\">http://10.0.27.58:8787/status</a>\n",
       "                        </td>\n",
       "                        <td style=\"text-align: left;\">\n",
       "                            <strong>Memory: </strong> 14.72 GiB\n",
       "                        </td>\n",
       "                    </tr>\n",
       "                    <tr>\n",
       "                        <td style=\"text-align: left;\">\n",
       "                            <strong>Nanny: </strong> tls://10.0.27.58:42705\n",
       "                        </td>\n",
       "                        <td style=\"text-align: left;\"></td>\n",
       "                    </tr>\n",
       "                    <tr>\n",
       "                        <td colspan=\"2\" style=\"text-align: left;\">\n",
       "                            <strong>Local directory: </strong> /scratch/dask-worker-space/worker-b81u9gl_\n",
       "                        </td>\n",
       "                    </tr>\n",
       "\n",
       "                    \n",
       "                    <tr>\n",
       "                        <td style=\"text-align: left;\">\n",
       "                            <strong>GPU: </strong>Tesla T4\n",
       "                        </td>\n",
       "                        <td style=\"text-align: left;\">\n",
       "                            <strong>GPU memory: </strong> 15.00 GiB\n",
       "                        </td>\n",
       "                    </tr>\n",
       "                    \n",
       "\n",
       "                    \n",
       "\n",
       "                </table>\n",
       "            </details>\n",
       "            </div>\n",
       "        </div>\n",
       "        \n",
       "        <div style=\"margin-bottom: 20px;\">\n",
       "            <div style=\"width: 24px; height: 24px; background-color: #DBF5FF; border: 3px solid #4CC9FF; border-radius: 5px; position: absolute;\"> </div>\n",
       "            <div style=\"margin-left: 48px;\">\n",
       "            <details>\n",
       "                <summary>\n",
       "                    <h4 style=\"margin-bottom: 0px; display: inline;\">Worker: pytorch-optuna-milesg1-worker-d471c8744e</h4>\n",
       "                </summary>\n",
       "                <table style=\"width: 100%; text-align: left;\">\n",
       "                    <tr>\n",
       "                        <td style=\"text-align: left;\">\n",
       "                            <strong>Comm: </strong> tls://10.0.20.83:35829\n",
       "                        </td>\n",
       "                        <td style=\"text-align: left;\">\n",
       "                            <strong>Total threads: </strong> 1\n",
       "                        </td>\n",
       "                    </tr>\n",
       "                    <tr>\n",
       "                        <td style=\"text-align: left;\">\n",
       "                            <strong>Dashboard: </strong> <a href=\"http://10.0.20.83:8787/status\" target=\"_blank\">http://10.0.20.83:8787/status</a>\n",
       "                        </td>\n",
       "                        <td style=\"text-align: left;\">\n",
       "                            <strong>Memory: </strong> 14.72 GiB\n",
       "                        </td>\n",
       "                    </tr>\n",
       "                    <tr>\n",
       "                        <td style=\"text-align: left;\">\n",
       "                            <strong>Nanny: </strong> tls://10.0.20.83:34667\n",
       "                        </td>\n",
       "                        <td style=\"text-align: left;\"></td>\n",
       "                    </tr>\n",
       "                    <tr>\n",
       "                        <td colspan=\"2\" style=\"text-align: left;\">\n",
       "                            <strong>Local directory: </strong> /scratch/dask-worker-space/worker-l5e_ktcx\n",
       "                        </td>\n",
       "                    </tr>\n",
       "\n",
       "                    \n",
       "                    <tr>\n",
       "                        <td style=\"text-align: left;\">\n",
       "                            <strong>GPU: </strong>Tesla T4\n",
       "                        </td>\n",
       "                        <td style=\"text-align: left;\">\n",
       "                            <strong>GPU memory: </strong> 15.00 GiB\n",
       "                        </td>\n",
       "                    </tr>\n",
       "                    \n",
       "\n",
       "                    \n",
       "\n",
       "                </table>\n",
       "            </details>\n",
       "            </div>\n",
       "        </div>\n",
       "        \n",
       "        <div style=\"margin-bottom: 20px;\">\n",
       "            <div style=\"width: 24px; height: 24px; background-color: #DBF5FF; border: 3px solid #4CC9FF; border-radius: 5px; position: absolute;\"> </div>\n",
       "            <div style=\"margin-left: 48px;\">\n",
       "            <details>\n",
       "                <summary>\n",
       "                    <h4 style=\"margin-bottom: 0px; display: inline;\">Worker: pytorch-optuna-milesg1-worker-e913b979fa</h4>\n",
       "                </summary>\n",
       "                <table style=\"width: 100%; text-align: left;\">\n",
       "                    <tr>\n",
       "                        <td style=\"text-align: left;\">\n",
       "                            <strong>Comm: </strong> tls://10.0.20.104:45211\n",
       "                        </td>\n",
       "                        <td style=\"text-align: left;\">\n",
       "                            <strong>Total threads: </strong> 1\n",
       "                        </td>\n",
       "                    </tr>\n",
       "                    <tr>\n",
       "                        <td style=\"text-align: left;\">\n",
       "                            <strong>Dashboard: </strong> <a href=\"http://10.0.20.104:8787/status\" target=\"_blank\">http://10.0.20.104:8787/status</a>\n",
       "                        </td>\n",
       "                        <td style=\"text-align: left;\">\n",
       "                            <strong>Memory: </strong> 14.72 GiB\n",
       "                        </td>\n",
       "                    </tr>\n",
       "                    <tr>\n",
       "                        <td style=\"text-align: left;\">\n",
       "                            <strong>Nanny: </strong> tls://10.0.20.104:35689\n",
       "                        </td>\n",
       "                        <td style=\"text-align: left;\"></td>\n",
       "                    </tr>\n",
       "                    <tr>\n",
       "                        <td colspan=\"2\" style=\"text-align: left;\">\n",
       "                            <strong>Local directory: </strong> /scratch/dask-worker-space/worker-vfikmjts\n",
       "                        </td>\n",
       "                    </tr>\n",
       "\n",
       "                    \n",
       "                    <tr>\n",
       "                        <td style=\"text-align: left;\">\n",
       "                            <strong>GPU: </strong>Tesla T4\n",
       "                        </td>\n",
       "                        <td style=\"text-align: left;\">\n",
       "                            <strong>GPU memory: </strong> 15.00 GiB\n",
       "                        </td>\n",
       "                    </tr>\n",
       "                    \n",
       "\n",
       "                    \n",
       "\n",
       "                </table>\n",
       "            </details>\n",
       "            </div>\n",
       "        </div>\n",
       "        \n",
       "        <div style=\"margin-bottom: 20px;\">\n",
       "            <div style=\"width: 24px; height: 24px; background-color: #DBF5FF; border: 3px solid #4CC9FF; border-radius: 5px; position: absolute;\"> </div>\n",
       "            <div style=\"margin-left: 48px;\">\n",
       "            <details>\n",
       "                <summary>\n",
       "                    <h4 style=\"margin-bottom: 0px; display: inline;\">Worker: pytorch-optuna-milesg1-worker-e944f80974</h4>\n",
       "                </summary>\n",
       "                <table style=\"width: 100%; text-align: left;\">\n",
       "                    <tr>\n",
       "                        <td style=\"text-align: left;\">\n",
       "                            <strong>Comm: </strong> tls://10.0.21.206:45393\n",
       "                        </td>\n",
       "                        <td style=\"text-align: left;\">\n",
       "                            <strong>Total threads: </strong> 1\n",
       "                        </td>\n",
       "                    </tr>\n",
       "                    <tr>\n",
       "                        <td style=\"text-align: left;\">\n",
       "                            <strong>Dashboard: </strong> <a href=\"http://10.0.21.206:8787/status\" target=\"_blank\">http://10.0.21.206:8787/status</a>\n",
       "                        </td>\n",
       "                        <td style=\"text-align: left;\">\n",
       "                            <strong>Memory: </strong> 14.71 GiB\n",
       "                        </td>\n",
       "                    </tr>\n",
       "                    <tr>\n",
       "                        <td style=\"text-align: left;\">\n",
       "                            <strong>Nanny: </strong> tls://10.0.21.206:46779\n",
       "                        </td>\n",
       "                        <td style=\"text-align: left;\"></td>\n",
       "                    </tr>\n",
       "                    <tr>\n",
       "                        <td colspan=\"2\" style=\"text-align: left;\">\n",
       "                            <strong>Local directory: </strong> /scratch/dask-worker-space/worker-kw4uhrn0\n",
       "                        </td>\n",
       "                    </tr>\n",
       "\n",
       "                    \n",
       "                    <tr>\n",
       "                        <td style=\"text-align: left;\">\n",
       "                            <strong>GPU: </strong>Tesla T4\n",
       "                        </td>\n",
       "                        <td style=\"text-align: left;\">\n",
       "                            <strong>GPU memory: </strong> 15.00 GiB\n",
       "                        </td>\n",
       "                    </tr>\n",
       "                    \n",
       "\n",
       "                    \n",
       "\n",
       "                </table>\n",
       "            </details>\n",
       "            </div>\n",
       "        </div>\n",
       "        \n",
       "        <div style=\"margin-bottom: 20px;\">\n",
       "            <div style=\"width: 24px; height: 24px; background-color: #DBF5FF; border: 3px solid #4CC9FF; border-radius: 5px; position: absolute;\"> </div>\n",
       "            <div style=\"margin-left: 48px;\">\n",
       "            <details>\n",
       "                <summary>\n",
       "                    <h4 style=\"margin-bottom: 0px; display: inline;\">Worker: pytorch-optuna-milesg1-worker-f7af4310e3</h4>\n",
       "                </summary>\n",
       "                <table style=\"width: 100%; text-align: left;\">\n",
       "                    <tr>\n",
       "                        <td style=\"text-align: left;\">\n",
       "                            <strong>Comm: </strong> tls://10.0.28.14:40213\n",
       "                        </td>\n",
       "                        <td style=\"text-align: left;\">\n",
       "                            <strong>Total threads: </strong> 1\n",
       "                        </td>\n",
       "                    </tr>\n",
       "                    <tr>\n",
       "                        <td style=\"text-align: left;\">\n",
       "                            <strong>Dashboard: </strong> <a href=\"http://10.0.28.14:8787/status\" target=\"_blank\">http://10.0.28.14:8787/status</a>\n",
       "                        </td>\n",
       "                        <td style=\"text-align: left;\">\n",
       "                            <strong>Memory: </strong> 14.72 GiB\n",
       "                        </td>\n",
       "                    </tr>\n",
       "                    <tr>\n",
       "                        <td style=\"text-align: left;\">\n",
       "                            <strong>Nanny: </strong> tls://10.0.28.14:41017\n",
       "                        </td>\n",
       "                        <td style=\"text-align: left;\"></td>\n",
       "                    </tr>\n",
       "                    <tr>\n",
       "                        <td colspan=\"2\" style=\"text-align: left;\">\n",
       "                            <strong>Local directory: </strong> /scratch/dask-worker-space/worker-gm675cym\n",
       "                        </td>\n",
       "                    </tr>\n",
       "\n",
       "                    \n",
       "                    <tr>\n",
       "                        <td style=\"text-align: left;\">\n",
       "                            <strong>GPU: </strong>Tesla T4\n",
       "                        </td>\n",
       "                        <td style=\"text-align: left;\">\n",
       "                            <strong>GPU memory: </strong> 15.00 GiB\n",
       "                        </td>\n",
       "                    </tr>\n",
       "                    \n",
       "\n",
       "                    \n",
       "\n",
       "                </table>\n",
       "            </details>\n",
       "            </div>\n",
       "        </div>\n",
       "        \n",
       "\n",
       "    </details>\n",
       "</div>\n",
       "\n",
       "        </details>\n",
       "    </div>\n",
       "</div>\n",
       "            </details>\n",
       "        \n",
       "\n",
       "    </div>\n",
       "</div>"
      ],
      "text/plain": [
       "<Client: 'tls://10.0.30.255:8786' processes=7 threads=7, memory=103.02 GiB>"
      ]
     },
     "execution_count": 38,
     "metadata": {},
     "output_type": "execute_result"
    }
   ],
   "source": [
    "client.restart()"
   ]
  },
  {
   "cell_type": "code",
   "execution_count": 40,
   "id": "3906bcff",
   "metadata": {},
   "outputs": [
    {
     "name": "stderr",
     "output_type": "stream",
     "text": [
      "2023-04-14 11:51:20,314 - distributed.client - ERROR - Failed to reconnect to scheduler after 30.00 seconds, closing client\n"
     ]
    }
   ],
   "source": [
    "client.shutdown()"
   ]
  }
 ],
 "metadata": {
  "kernelspec": {
   "display_name": "Python 3 (ipykernel)",
   "language": "python",
   "name": "python3"
  },
  "language_info": {
   "codemirror_mode": {
    "name": "ipython",
    "version": 3
   },
   "file_extension": ".py",
   "mimetype": "text/x-python",
   "name": "python",
   "nbconvert_exporter": "python",
   "pygments_lexer": "ipython3",
   "version": "3.10.10"
  }
 },
 "nbformat": 4,
 "nbformat_minor": 5
}
