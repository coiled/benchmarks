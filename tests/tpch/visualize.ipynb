{
 "cells": [
  {
   "cell_type": "markdown",
   "id": "0cdaec38-4a9e-4a25-b45e-1188903d219d",
   "metadata": {},
   "source": [
    "# Plot TPC-H results\n",
    "\n",
    "This currently assumes that benchmarks have been run and have populated benchmark.db.  It also assumes that that database has only those results and from only one run (this is usually a bad assumption).\n",
    "\n",
    "```\n",
    "rm benchmark.db\n",
    "pytest --benchmark tests/tpch\n",
    "```"
   ]
  },
  {
   "cell_type": "code",
   "execution_count": null,
   "id": "c7ec3d43-3a70-4666-9552-04d82ac42a31",
   "metadata": {},
   "outputs": [],
   "source": [
    "import pandas as pd\n",
    "\n",
    "df = pd.read_sql_table(table_name=\"test_run\", con=\"sqlite:///../../benchmark.db\")\n",
    "\n",
    "df = df[(df.call_outcome == \"passed\") & (df.path.str.startswith(\"tpch/\")) & df.cluster_name]\n",
    "df = df[[\"path\", \"name\", \"duration\", \"start\", \"cluster_name\"]]\n",
    "\n",
    "df[\"library\"] = df.path.map(lambda path: path.split(\"_\")[-1].split(\".\")[0])\n",
    "df[\"query\"] = df.name.map(lambda name: int(name.split(\"_\")[-1]))\n",
    "df[\"name\"] = df.cluster_name.map(lambda name: name.split(\"-\", 3)[-1])\n",
    "df[\"scale\"] = df.cluster_name.map(lambda name: int(name.split(\"-\")[2]))\n",
    "del df[\"path\"]\n",
    "del df[\"cluster_name\"]"
   ]
  },
  {
   "cell_type": "code",
   "execution_count": null,
   "id": "31fbdc8a-c782-4000-9e23-5488b4d04d14",
   "metadata": {},
   "outputs": [],
   "source": [
    "df"
   ]
  },
  {
   "cell_type": "code",
   "execution_count": null,
   "id": "92f926a6-cbeb-4765-b5c1-3e8ea7c71ff6",
   "metadata": {},
   "outputs": [],
   "source": [
    "df = df.sort_values([\"query\", \"library\"])\n",
    "\n",
    "def recent(df):\n",
    "    return df.sort_values(\"start\").iloc[-1]\n",
    "\n",
    "df = df.groupby([\"library\", \"query\"]).apply(recent).reset_index(drop=True)\n",
    "del df[\"start\"]\n",
    "df.head(10)"
   ]
  },
  {
   "cell_type": "code",
   "execution_count": null,
   "id": "34830787-2364-4541-8cf8-8adffbde9148",
   "metadata": {},
   "outputs": [],
   "source": [
    "import altair as alt\n",
    "\n",
    "chart = alt.Chart(df).mark_bar().encode(\n",
    "    x=\"query:N\",\n",
    "    y=\"duration:Q\",\n",
    "    xOffset=\"library:N\",\n",
    "    color=alt.Color('library').scale(\n",
    "        domain=[\"dask\", \"duckdb\", \"polars\", \"pyspark\"], \n",
    "        range=[\"#5677a4\", \"#e68b39\", \"#d4605b\", \"green\"],\n",
    "    ),\n",
    "    tooltip=[\"library\", \"duration\"]\n",
    ").properties(\n",
    "    title=f\"TPC-H -- scale:{df.scale.iloc[0]} name:{df.name.iloc[0]}\"\n",
    ").configure_title(\n",
    "    fontSize=20,\n",
    "\n",
    ")\n",
    "chart"
   ]
  }
 ],
 "metadata": {
  "kernelspec": {
   "display_name": "Python [conda env:ibis]",
   "language": "python",
   "name": "conda-env-ibis-py"
  },
  "language_info": {
   "codemirror_mode": {
    "name": "ipython",
    "version": 3
   },
   "file_extension": ".py",
   "mimetype": "text/x-python",
   "name": "python",
   "nbconvert_exporter": "python",
   "pygments_lexer": "ipython3",
   "version": "3.11.6"
  }
 },
 "nbformat": 4,
 "nbformat_minor": 5
}
