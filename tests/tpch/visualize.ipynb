{
 "cells": [
  {
   "cell_type": "markdown",
   "id": "0cdaec38-4a9e-4a25-b45e-1188903d219d",
   "metadata": {},
   "source": [
    "# Plot TPC-H results\n",
    "\n",
    "This currently assumes that benchmarks have been run and have populated benchmark.db.  It also assumes that that database has only those results and from only one run (this is usually a bad assumption).\n",
    "\n",
    "```\n",
    "rm benchmark.db\n",
    "pytest --benchmark tests/benchmarks/tpch --tpch-non-dask\n",
    "```"
   ]
  },
  {
   "cell_type": "code",
   "execution_count": null,
   "id": "fb350401-c096-4ccd-a214-b8ca72ec05c7",
   "metadata": {},
   "outputs": [],
   "source": [
    "import ibis\n",
    "ibis.options.interactive = True\n",
    "con = ibis.sqlite.connect(\"../../benchmark.db\")\n",
    "t = con.table(\"test_run\")\n",
    "t"
   ]
  },
  {
   "cell_type": "code",
   "execution_count": null,
   "id": "1f7ba118-bdf0-4d45-8d5e-d1dea8e700ce",
   "metadata": {},
   "outputs": [],
   "source": [
    "tt = t[(t.call_outcome == \"passed\") & (t.path.startswith(\"tpch/\"))]\n",
    "tt[[\"path\", \"name\", \"duration\", \"start\"]]"
   ]
  },
  {
   "cell_type": "code",
   "execution_count": null,
   "id": "92f926a6-cbeb-4765-b5c1-3e8ea7c71ff6",
   "metadata": {},
   "outputs": [],
   "source": [
    "df = tt[[\"path\", \"name\", \"duration\", \"start\"]].to_pandas()\n",
    "\n",
    "df[\"library\"] = df.path.map(lambda path: path.split(\"_\")[-1].split(\".\")[0])\n",
    "df[\"query\"] = df.name.map(lambda name: int(name.split(\"_\")[-1]))\n",
    "del df[\"path\"]\n",
    "del df[\"name\"]\n",
    "df = df.sort_values([\"query\", \"library\"])\n",
    "\n",
    "def recent(df):\n",
    "    return df.sort_values(\"start\").iloc[-1]\n",
    "\n",
    "df = df.groupby([\"library\", \"query\"]).apply(recent).reset_index(drop=True)\n",
    "del df[\"start\"]\n",
    "df.head(10)"
   ]
  },
  {
   "cell_type": "code",
   "execution_count": null,
   "id": "9742acfa-2cf2-4503-ad79-0f3869112e68",
   "metadata": {},
   "outputs": [],
   "source": [
    "import altair as alt\n",
    "\n",
    "alt.Chart(df).mark_bar().encode(\n",
    "    x=\"query:N\",\n",
    "    y=\"duration:Q\",\n",
    "    xOffset=\"library:N\",\n",
    "    color=\"library:N\",\n",
    "    tooltip=[\"library\", \"duration\"],\n",
    ")"
   ]
  },
  {
   "cell_type": "code",
   "execution_count": null,
   "id": "34830787-2364-4541-8cf8-8adffbde9148",
   "metadata": {},
   "outputs": [],
   "source": []
  }
 ],
 "metadata": {
  "kernelspec": {
   "display_name": "Python [conda env:ibis]",
   "language": "python",
   "name": "conda-env-ibis-py"
  },
  "language_info": {
   "codemirror_mode": {
    "name": "ipython",
    "version": 3
   },
   "file_extension": ".py",
   "mimetype": "text/x-python",
   "name": "python",
   "nbconvert_exporter": "python",
   "pygments_lexer": "ipython3",
   "version": "3.11.6"
  }
 },
 "nbformat": 4,
 "nbformat_minor": 5
}
