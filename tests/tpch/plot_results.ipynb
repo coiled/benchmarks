{
 "cells": [
  {
   "cell_type": "markdown",
   "id": "0cdaec38-4a9e-4a25-b45e-1188903d219d",
   "metadata": {},
   "source": [
    "# Plot TPC-H results"
   ]
  },
  {
   "cell_type": "code",
   "execution_count": 1,
   "id": "5e877284-731c-4105-bef4-4409b410dc24",
   "metadata": {},
   "outputs": [],
   "source": [
    "import pandas as pd\n",
    "from plotting import from_db, latest, normalize, plot"
   ]
  },
  {
   "cell_type": "markdown",
   "id": "048cfafb-573f-4ad5-b724-fdff3af83adf",
   "metadata": {},
   "source": [
    "## Load data"
   ]
  },
  {
   "cell_type": "code",
   "execution_count": 2,
   "id": "01d857fc-7956-4592-ba34-6e325cbb217b",
   "metadata": {},
   "outputs": [],
   "source": [
    "df = from_db(\"/Users/hendrikmakait/Downloads/tpch_1000.db\")"
   ]
  },
  {
   "cell_type": "code",
   "execution_count": 3,
   "id": "5815ac3c-2ad6-4207-a977-31d61039d355",
   "metadata": {},
   "outputs": [],
   "source": [
    "spark_df = from_db(\"/Users/hendrikmakait/projects/coiled/benchmarks/benchmark.db\")\n",
    "spark_df = spark_df[spark_df[\"library\"] == \"pyspark\"]"
   ]
  },
  {
   "cell_type": "code",
   "execution_count": 4,
   "id": "1130a571-db77-46e7-990f-b0913a22b5dc",
   "metadata": {},
   "outputs": [],
   "source": [
    "dask_df = from_db(\"/Users/hendrikmakait/Downloads/tpch_1000.db 3\")\n",
    "dask_df = dask_df[dask_df[\"library\"] == \"dask\"]"
   ]
  },
  {
   "cell_type": "code",
   "execution_count": 5,
   "id": "c2ad0b96-86f8-40d3-8c83-ca064877c647",
   "metadata": {},
   "outputs": [],
   "source": [
    "combined_df = pd.concat([df, dask_df, spark_df])"
   ]
  },
  {
   "cell_type": "code",
   "execution_count": 6,
   "id": "36617fe5-c676-474a-b4d3-7eb139157d21",
   "metadata": {},
   "outputs": [],
   "source": [
    "df = latest(combined_df)"
   ]
  },
  {
   "cell_type": "markdown",
   "id": "ba013c77-5173-42c5-881f-89a4455f01ac",
   "metadata": {},
   "source": [
    "## Prepare data"
   ]
  },
  {
   "cell_type": "code",
   "execution_count": 7,
   "id": "677b16fc-aae5-4c21-abfd-aeb5505f403c",
   "metadata": {},
   "outputs": [],
   "source": [
    "df = normalize(df)"
   ]
  },
  {
   "cell_type": "markdown",
   "id": "e6eb21e4-9754-48fd-a6b9-4429f4696928",
   "metadata": {},
   "source": [
    "## Generate plots"
   ]
  },
  {
   "cell_type": "code",
   "execution_count": 8,
   "id": "1c83ccc4-ac11-4edf-bbea-62d613113e61",
   "metadata": {},
   "outputs": [
    {
     "data": {
      "text/html": [
       "\n",
       "<style>\n",
       "  #altair-viz-2e37029c4e134b64a533b2192613d960.vega-embed {\n",
       "    width: 100%;\n",
       "    display: flex;\n",
       "  }\n",
       "\n",
       "  #altair-viz-2e37029c4e134b64a533b2192613d960.vega-embed details,\n",
       "  #altair-viz-2e37029c4e134b64a533b2192613d960.vega-embed details summary {\n",
       "    position: relative;\n",
       "  }\n",
       "</style>\n",
       "<div id=\"altair-viz-2e37029c4e134b64a533b2192613d960\"></div>\n",
       "<script type=\"text/javascript\">\n",
       "  var VEGA_DEBUG = (typeof VEGA_DEBUG == \"undefined\") ? {} : VEGA_DEBUG;\n",
       "  (function(spec, embedOpt){\n",
       "    let outputDiv = document.currentScript.previousElementSibling;\n",
       "    if (outputDiv.id !== \"altair-viz-2e37029c4e134b64a533b2192613d960\") {\n",
       "      outputDiv = document.getElementById(\"altair-viz-2e37029c4e134b64a533b2192613d960\");\n",
       "    }\n",
       "    const paths = {\n",
       "      \"vega\": \"https://cdn.jsdelivr.net/npm/vega@5?noext\",\n",
       "      \"vega-lib\": \"https://cdn.jsdelivr.net/npm/vega-lib?noext\",\n",
       "      \"vega-lite\": \"https://cdn.jsdelivr.net/npm/vega-lite@5.16.3?noext\",\n",
       "      \"vega-embed\": \"https://cdn.jsdelivr.net/npm/vega-embed@6?noext\",\n",
       "    };\n",
       "\n",
       "    function maybeLoadScript(lib, version) {\n",
       "      var key = `${lib.replace(\"-\", \"\")}_version`;\n",
       "      return (VEGA_DEBUG[key] == version) ?\n",
       "        Promise.resolve(paths[lib]) :\n",
       "        new Promise(function(resolve, reject) {\n",
       "          var s = document.createElement('script');\n",
       "          document.getElementsByTagName(\"head\")[0].appendChild(s);\n",
       "          s.async = true;\n",
       "          s.onload = () => {\n",
       "            VEGA_DEBUG[key] = version;\n",
       "            return resolve(paths[lib]);\n",
       "          };\n",
       "          s.onerror = () => reject(`Error loading script: ${paths[lib]}`);\n",
       "          s.src = paths[lib];\n",
       "        });\n",
       "    }\n",
       "\n",
       "    function showError(err) {\n",
       "      outputDiv.innerHTML = `<div class=\"error\" style=\"color:red;\">${err}</div>`;\n",
       "      throw err;\n",
       "    }\n",
       "\n",
       "    function displayChart(vegaEmbed) {\n",
       "      vegaEmbed(outputDiv, spec, embedOpt)\n",
       "        .catch(err => showError(`Javascript Error: ${err.message}<br>This usually means there's a typo in your chart specification. See the javascript console for the full traceback.`));\n",
       "    }\n",
       "\n",
       "    if(typeof define === \"function\" && define.amd) {\n",
       "      requirejs.config({paths});\n",
       "      require([\"vega-embed\"], displayChart, err => showError(`Error loading script: ${err.message}`));\n",
       "    } else {\n",
       "      maybeLoadScript(\"vega\", \"5\")\n",
       "        .then(() => maybeLoadScript(\"vega-lite\", \"5.16.3\"))\n",
       "        .then(() => maybeLoadScript(\"vega-embed\", \"6\"))\n",
       "        .catch(showError)\n",
       "        .then(() => displayChart(vegaEmbed));\n",
       "    }\n",
       "  })({\"config\": {\"view\": {\"continuousWidth\": 300, \"continuousHeight\": 300}, \"title\": {\"fontSize\": 20}}, \"vconcat\": [{\"data\": {\"name\": \"data-60304645984319124919f88ae16efa41\"}, \"mark\": {\"type\": \"bar\"}, \"encoding\": {\"color\": {\"field\": \"library\", \"scale\": {\"domain\": [\"dask\", \"duckdb\", \"pyspark\"], \"range\": [\"#5677a4\", \"#e68b39\", \"green\"]}, \"type\": \"nominal\"}, \"tooltip\": [{\"field\": \"library\", \"type\": \"nominal\"}, {\"field\": \"duration\", \"type\": \"quantitative\"}], \"x\": {\"field\": \"query\", \"type\": \"nominal\"}, \"xOffset\": {\"field\": \"library\", \"type\": \"nominal\"}, \"y\": {\"field\": \"duration\", \"type\": \"quantitative\"}}}, {\"data\": {\"name\": \"data-6609a5a7347f4301b39e30d83c70fde7\"}, \"mark\": {\"type\": \"bar\"}, \"encoding\": {\"color\": {\"field\": \"library\", \"scale\": {\"domain\": [\"dask\", \"duckdb\", \"pyspark\"], \"range\": [\"#5677a4\", \"#e68b39\", \"green\"]}, \"type\": \"nominal\"}, \"tooltip\": [{\"field\": \"library\", \"type\": \"nominal\"}, {\"field\": \"duration\", \"type\": \"quantitative\"}], \"x\": {\"field\": \"query\", \"type\": \"nominal\"}, \"xOffset\": {\"field\": \"library\", \"type\": \"nominal\"}, \"y\": {\"field\": \"duration\", \"type\": \"quantitative\"}}}], \"title\": \"TPC-H -- scale:1000 name:44bdc8c7\", \"$schema\": \"https://vega.github.io/schema/vega-lite/v5.16.3.json\", \"datasets\": {\"data-60304645984319124919f88ae16efa41\": [{\"name\": \"44bdc8c7\", \"duration\": 35.05969572067261, \"library\": \"dask\", \"query\": 1, \"scale\": 1000, \"relative_duration\": 1.0}, {\"name\": \"9e16310e\", \"duration\": 27.28250789642334, \"library\": \"duckdb\", \"query\": 1, \"scale\": 1000, \"relative_duration\": 0.7781729799878575}, {\"name\": \"477b3002\", \"duration\": 73.38079237937927, \"library\": \"pyspark\", \"query\": 1, \"scale\": 1000, \"relative_duration\": 2.0930242225722173}, {\"name\": \"44bdc8c7\", \"duration\": 55.01262354850769, \"library\": \"dask\", \"query\": 2, \"scale\": 1000, \"relative_duration\": 1.0}, {\"name\": \"9e16310e\", \"duration\": 19.620285511016846, \"library\": \"duckdb\", \"query\": 2, \"scale\": 1000, \"relative_duration\": 0.35665060572354906}, {\"name\": \"477b3002\", \"duration\": 45.82921743392944, \"library\": \"pyspark\", \"query\": 2, \"scale\": 1000, \"relative_duration\": 0.8330672939733418}, {\"name\": \"44bdc8c7\", \"duration\": 67.65736985206604, \"library\": \"dask\", \"query\": 3, \"scale\": 1000, \"relative_duration\": 1.0}, {\"name\": \"9e16310e\", \"duration\": 167.00138306617737, \"library\": \"duckdb\", \"query\": 3, \"scale\": 1000, \"relative_duration\": 2.468339863511228}, {\"name\": \"477b3002\", \"duration\": 90.03292775154114, \"library\": \"pyspark\", \"query\": 3, \"scale\": 1000, \"relative_duration\": 1.3307187073396383}, {\"name\": \"44bdc8c7\", \"duration\": 44.942315101623535, \"library\": \"dask\", \"query\": 4, \"scale\": 1000, \"relative_duration\": 1.0}, {\"name\": \"9e16310e\", \"duration\": 29.833195447921753, \"library\": \"duckdb\", \"query\": 4, \"scale\": 1000, \"relative_duration\": 0.6638108290697298}, {\"name\": \"477b3002\", \"duration\": 69.48447895050049, \"library\": \"pyspark\", \"query\": 4, \"scale\": 1000, \"relative_duration\": 1.5460814333525594}, {\"name\": \"44bdc8c7\", \"duration\": 101.54061508178711, \"library\": \"dask\", \"query\": 5, \"scale\": 1000, \"relative_duration\": 1.0}, {\"name\": \"9e16310e\", \"duration\": 39.59130930900574, \"library\": \"duckdb\", \"query\": 5, \"scale\": 1000, \"relative_duration\": 0.38990614028796694}, {\"name\": \"477b3002\", \"duration\": 168.32815027236938, \"library\": \"pyspark\", \"query\": 5, \"scale\": 1000, \"relative_duration\": 1.6577420782490577}, {\"name\": \"44bdc8c7\", \"duration\": 10.845012426376343, \"library\": \"dask\", \"query\": 6, \"scale\": 1000, \"relative_duration\": 1.0}, {\"name\": \"9e16310e\", \"duration\": 20.835390090942383, \"library\": \"duckdb\", \"query\": 6, \"scale\": 1000, \"relative_duration\": 1.921195594047294}, {\"name\": \"477b3002\", \"duration\": 27.833962202072144, \"library\": \"pyspark\", \"query\": 6, \"scale\": 1000, \"relative_duration\": 2.5665219280317912}, {\"name\": \"44bdc8c7\", \"duration\": 109.00600123405457, \"library\": \"dask\", \"query\": 7, \"scale\": 1000, \"relative_duration\": 1.0}, {\"name\": \"9e16310e\", \"duration\": 239.29256343841553, \"library\": \"duckdb\", \"query\": 7, \"scale\": 1000, \"relative_duration\": 2.1952237558427026}, {\"name\": \"477b3002\", \"duration\": 84.19863557815552, \"library\": \"pyspark\", \"query\": 7, \"scale\": 1000, \"relative_duration\": 0.7724220192002696}, {\"name\": \"44bdc8c7\", \"duration\": 129.37504935264587, \"library\": \"dask\", \"query\": 8, \"scale\": 1000, \"relative_duration\": 1.0}, {\"name\": \"9e16310e\", \"duration\": 53.52777290344238, \"library\": \"duckdb\", \"query\": 8, \"scale\": 1000, \"relative_duration\": 0.41374108200367365}, {\"name\": \"477b3002\", \"duration\": 169.28215527534485, \"library\": \"pyspark\", \"query\": 8, \"scale\": 1000, \"relative_duration\": 1.3084606044394358}, {\"name\": \"44bdc8c7\", \"duration\": 184.13342237472534, \"library\": \"dask\", \"query\": 9, \"scale\": 1000, \"relative_duration\": 1.0}, {\"name\": \"9e16310e\", \"duration\": 174.61981296539307, \"library\": \"duckdb\", \"query\": 9, \"scale\": 1000, \"relative_duration\": 0.9483330658462896}, {\"name\": \"477b3002\", \"duration\": 207.6880226135254, \"library\": \"pyspark\", \"query\": 9, \"scale\": 1000, \"relative_duration\": 1.1279213731815871}, {\"name\": \"44bdc8c7\", \"duration\": 88.57309150695801, \"library\": \"dask\", \"query\": 10, \"scale\": 1000, \"relative_duration\": 1.0}, {\"name\": \"9e16310e\", \"duration\": 119.10435390472412, \"library\": \"duckdb\", \"query\": 10, \"scale\": 1000, \"relative_duration\": 1.3447013294705614}, {\"name\": \"477b3002\", \"duration\": 63.06327509880066, \"library\": \"pyspark\", \"query\": 10, \"scale\": 1000, \"relative_duration\": 0.711991351163876}, {\"name\": \"44bdc8c7\", \"duration\": 19.897305011749268, \"library\": \"dask\", \"query\": 11, \"scale\": 1000, \"relative_duration\": 1.0}, {\"name\": \"9e16310e\", \"duration\": 16.218371152877808, \"library\": \"duckdb\", \"query\": 11, \"scale\": 1000, \"relative_duration\": 0.815103911977071}, {\"name\": \"477b3002\", \"duration\": 28.378389596939087, \"library\": \"pyspark\", \"query\": 11, \"scale\": 1000, \"relative_duration\": 1.4262428796352962}], \"data-6609a5a7347f4301b39e30d83c70fde7\": [{\"name\": \"44bdc8c7\", \"duration\": 50.88893413543701, \"library\": \"dask\", \"query\": 12, \"scale\": 1000, \"relative_duration\": 1.0}, {\"name\": \"9e16310e\", \"duration\": 25.669204711914062, \"library\": \"duckdb\", \"query\": 12, \"scale\": 1000, \"relative_duration\": 0.5044162379899221}, {\"name\": \"477b3002\", \"duration\": 49.58424115180969, \"library\": \"pyspark\", \"query\": 12, \"scale\": 1000, \"relative_duration\": 0.9743619510647447}, {\"name\": \"44bdc8c7\", \"duration\": 35.097862005233765, \"library\": \"dask\", \"query\": 13, \"scale\": 1000, \"relative_duration\": 1.0}, {\"name\": \"9e16310e\", \"duration\": 72.87638115882874, \"library\": \"duckdb\", \"query\": 13, \"scale\": 1000, \"relative_duration\": 2.0763766507476}, {\"name\": \"477b3002\", \"duration\": 52.043217420578, \"library\": \"pyspark\", \"query\": 13, \"scale\": 1000, \"relative_duration\": 1.4828030668311751}, {\"name\": \"44bdc8c7\", \"duration\": 22.920140504837036, \"library\": \"dask\", \"query\": 14, \"scale\": 1000, \"relative_duration\": 1.0}, {\"name\": \"9e16310e\", \"duration\": 44.0588858127594, \"library\": \"duckdb\", \"query\": 14, \"scale\": 1000, \"relative_duration\": 1.9222781729222502}, {\"name\": \"477b3002\", \"duration\": 31.392590284347534, \"library\": \"pyspark\", \"query\": 14, \"scale\": 1000, \"relative_duration\": 1.3696508656970268}, {\"name\": \"44bdc8c7\", \"duration\": 35.30742621421814, \"library\": \"dask\", \"query\": 15, \"scale\": 1000, \"relative_duration\": 1.0}, {\"name\": \"9e16310e\", \"duration\": 66.09337615966797, \"library\": \"duckdb\", \"query\": 15, \"scale\": 1000, \"relative_duration\": 1.8719397941573115}, {\"name\": \"477b3002\", \"duration\": 43.07330656051636, \"library\": \"pyspark\", \"query\": 15, \"scale\": 1000, \"relative_duration\": 1.2199503384693313}, {\"name\": \"44bdc8c7\", \"duration\": 24.98328971862793, \"library\": \"dask\", \"query\": 16, \"scale\": 1000, \"relative_duration\": 1.0}, {\"name\": \"9e16310e\", \"duration\": 30.322426080703735, \"library\": \"duckdb\", \"query\": 16, \"scale\": 1000, \"relative_duration\": 1.2137082995156905}, {\"name\": \"477b3002\", \"duration\": 21.59945321083069, \"library\": \"pyspark\", \"query\": 16, \"scale\": 1000, \"relative_duration\": 0.8645560073990496}, {\"name\": \"44bdc8c7\", \"duration\": 85.46898007392883, \"library\": \"dask\", \"query\": 17, \"scale\": 1000, \"relative_duration\": 1.0}, {\"name\": \"9e16310e\", \"duration\": 41.6661319732666, \"library\": \"duckdb\", \"query\": 17, \"scale\": 1000, \"relative_duration\": 0.48750004899118127}, {\"name\": \"477b3002\", \"duration\": 150.58083748817444, \"library\": \"pyspark\", \"query\": 17, \"scale\": 1000, \"relative_duration\": 1.7618185844492966}, {\"name\": \"44bdc8c7\", \"duration\": 169.94610834121704, \"library\": \"dask\", \"query\": 18, \"scale\": 1000, \"relative_duration\": 1.0}, {\"name\": \"477b3002\", \"duration\": 150.466148853302, \"library\": \"pyspark\", \"query\": 18, \"scale\": 1000, \"relative_duration\": 0.8853756659799278}, {\"name\": \"44bdc8c7\", \"duration\": 39.83003091812134, \"library\": \"dask\", \"query\": 19, \"scale\": 1000, \"relative_duration\": 1.0}, {\"name\": \"9e16310e\", \"duration\": 34.4285626411438, \"library\": \"duckdb\", \"query\": 19, \"scale\": 1000, \"relative_duration\": 0.8643870428300358}, {\"name\": \"477b3002\", \"duration\": 39.75067353248596, \"library\": \"pyspark\", \"query\": 19, \"scale\": 1000, \"relative_duration\": 0.9980075991957297}, {\"name\": \"44bdc8c7\", \"duration\": 71.34559345245361, \"library\": \"dask\", \"query\": 20, \"scale\": 1000, \"relative_duration\": 1.0}, {\"name\": \"9e16310e\", \"duration\": 38.41373658180237, \"library\": \"duckdb\", \"query\": 20, \"scale\": 1000, \"relative_duration\": 0.5384177876017274}, {\"name\": \"477b3002\", \"duration\": 40.75278115272522, \"library\": \"pyspark\", \"query\": 20, \"scale\": 1000, \"relative_duration\": 0.5712024973186863}, {\"name\": \"44bdc8c7\", \"duration\": 251.64182829856873, \"library\": \"dask\", \"query\": 21, \"scale\": 1000, \"relative_duration\": 1.0}, {\"name\": \"9e16310e\", \"duration\": 113.02221250534058, \"library\": \"duckdb\", \"query\": 21, \"scale\": 1000, \"relative_duration\": 0.4491392121473607}, {\"name\": \"477b3002\", \"duration\": 231.46042490005493, \"library\": \"pyspark\", \"query\": 21, \"scale\": 1000, \"relative_duration\": 0.9198010778455762}, {\"name\": \"44bdc8c7\", \"duration\": 22.98221516609192, \"library\": \"dask\", \"query\": 22, \"scale\": 1000, \"relative_duration\": 1.0}, {\"name\": \"9e16310e\", \"duration\": 15.949731826782227, \"library\": \"duckdb\", \"query\": 22, \"scale\": 1000, \"relative_duration\": 0.6940032417029384}, {\"name\": \"477b3002\", \"duration\": 27.611745357513428, \"library\": \"pyspark\", \"query\": 22, \"scale\": 1000, \"relative_duration\": 1.2014396853377276}]}}, {\"mode\": \"vega-lite\"});\n",
       "</script>"
      ],
      "text/plain": [
       "alt.VConcatChart(...)"
      ]
     },
     "execution_count": 8,
     "metadata": {},
     "output_type": "execute_result"
    }
   ],
   "source": [
    "abs_chart = plot(df, [\"dask\", \"duckdb\", \"pyspark\"])\n",
    "abs_chart.save(\"tpch-scale-1000-no-polars.svg\")\n",
    "abs_chart"
   ]
  },
  {
   "cell_type": "code",
   "execution_count": 9,
   "id": "ab5492be-6f97-49cd-b248-c6f5cac71638",
   "metadata": {},
   "outputs": [
    {
     "data": {
      "text/html": [
       "\n",
       "<style>\n",
       "  #altair-viz-0a3ab4cb25444e26bfbdb6b8a96911dd.vega-embed {\n",
       "    width: 100%;\n",
       "    display: flex;\n",
       "  }\n",
       "\n",
       "  #altair-viz-0a3ab4cb25444e26bfbdb6b8a96911dd.vega-embed details,\n",
       "  #altair-viz-0a3ab4cb25444e26bfbdb6b8a96911dd.vega-embed details summary {\n",
       "    position: relative;\n",
       "  }\n",
       "</style>\n",
       "<div id=\"altair-viz-0a3ab4cb25444e26bfbdb6b8a96911dd\"></div>\n",
       "<script type=\"text/javascript\">\n",
       "  var VEGA_DEBUG = (typeof VEGA_DEBUG == \"undefined\") ? {} : VEGA_DEBUG;\n",
       "  (function(spec, embedOpt){\n",
       "    let outputDiv = document.currentScript.previousElementSibling;\n",
       "    if (outputDiv.id !== \"altair-viz-0a3ab4cb25444e26bfbdb6b8a96911dd\") {\n",
       "      outputDiv = document.getElementById(\"altair-viz-0a3ab4cb25444e26bfbdb6b8a96911dd\");\n",
       "    }\n",
       "    const paths = {\n",
       "      \"vega\": \"https://cdn.jsdelivr.net/npm/vega@5?noext\",\n",
       "      \"vega-lib\": \"https://cdn.jsdelivr.net/npm/vega-lib?noext\",\n",
       "      \"vega-lite\": \"https://cdn.jsdelivr.net/npm/vega-lite@5.16.3?noext\",\n",
       "      \"vega-embed\": \"https://cdn.jsdelivr.net/npm/vega-embed@6?noext\",\n",
       "    };\n",
       "\n",
       "    function maybeLoadScript(lib, version) {\n",
       "      var key = `${lib.replace(\"-\", \"\")}_version`;\n",
       "      return (VEGA_DEBUG[key] == version) ?\n",
       "        Promise.resolve(paths[lib]) :\n",
       "        new Promise(function(resolve, reject) {\n",
       "          var s = document.createElement('script');\n",
       "          document.getElementsByTagName(\"head\")[0].appendChild(s);\n",
       "          s.async = true;\n",
       "          s.onload = () => {\n",
       "            VEGA_DEBUG[key] = version;\n",
       "            return resolve(paths[lib]);\n",
       "          };\n",
       "          s.onerror = () => reject(`Error loading script: ${paths[lib]}`);\n",
       "          s.src = paths[lib];\n",
       "        });\n",
       "    }\n",
       "\n",
       "    function showError(err) {\n",
       "      outputDiv.innerHTML = `<div class=\"error\" style=\"color:red;\">${err}</div>`;\n",
       "      throw err;\n",
       "    }\n",
       "\n",
       "    function displayChart(vegaEmbed) {\n",
       "      vegaEmbed(outputDiv, spec, embedOpt)\n",
       "        .catch(err => showError(`Javascript Error: ${err.message}<br>This usually means there's a typo in your chart specification. See the javascript console for the full traceback.`));\n",
       "    }\n",
       "\n",
       "    if(typeof define === \"function\" && define.amd) {\n",
       "      requirejs.config({paths});\n",
       "      require([\"vega-embed\"], displayChart, err => showError(`Error loading script: ${err.message}`));\n",
       "    } else {\n",
       "      maybeLoadScript(\"vega\", \"5\")\n",
       "        .then(() => maybeLoadScript(\"vega-lite\", \"5.16.3\"))\n",
       "        .then(() => maybeLoadScript(\"vega-embed\", \"6\"))\n",
       "        .catch(showError)\n",
       "        .then(() => displayChart(vegaEmbed));\n",
       "    }\n",
       "  })({\"config\": {\"view\": {\"continuousWidth\": 300, \"continuousHeight\": 300}, \"title\": {\"fontSize\": 20}}, \"vconcat\": [{\"data\": {\"name\": \"data-60304645984319124919f88ae16efa41\"}, \"mark\": {\"type\": \"bar\"}, \"encoding\": {\"color\": {\"field\": \"library\", \"scale\": {\"domain\": [\"dask\", \"duckdb\", \"pyspark\"], \"range\": [\"#5677a4\", \"#e68b39\", \"green\"]}, \"type\": \"nominal\"}, \"tooltip\": [{\"field\": \"library\", \"type\": \"nominal\"}, {\"field\": \"relative_duration\", \"type\": \"quantitative\"}], \"x\": {\"field\": \"query\", \"type\": \"nominal\"}, \"xOffset\": {\"field\": \"library\", \"type\": \"nominal\"}, \"y\": {\"field\": \"relative_duration\", \"type\": \"quantitative\"}}}, {\"data\": {\"name\": \"data-6609a5a7347f4301b39e30d83c70fde7\"}, \"mark\": {\"type\": \"bar\"}, \"encoding\": {\"color\": {\"field\": \"library\", \"scale\": {\"domain\": [\"dask\", \"duckdb\", \"pyspark\"], \"range\": [\"#5677a4\", \"#e68b39\", \"green\"]}, \"type\": \"nominal\"}, \"tooltip\": [{\"field\": \"library\", \"type\": \"nominal\"}, {\"field\": \"relative_duration\", \"type\": \"quantitative\"}], \"x\": {\"field\": \"query\", \"type\": \"nominal\"}, \"xOffset\": {\"field\": \"library\", \"type\": \"nominal\"}, \"y\": {\"field\": \"relative_duration\", \"type\": \"quantitative\"}}}], \"title\": \"TPC-H -- scale:1000 name:44bdc8c7\", \"$schema\": \"https://vega.github.io/schema/vega-lite/v5.16.3.json\", \"datasets\": {\"data-60304645984319124919f88ae16efa41\": [{\"name\": \"44bdc8c7\", \"duration\": 35.05969572067261, \"library\": \"dask\", \"query\": 1, \"scale\": 1000, \"relative_duration\": 1.0}, {\"name\": \"9e16310e\", \"duration\": 27.28250789642334, \"library\": \"duckdb\", \"query\": 1, \"scale\": 1000, \"relative_duration\": 0.7781729799878575}, {\"name\": \"477b3002\", \"duration\": 73.38079237937927, \"library\": \"pyspark\", \"query\": 1, \"scale\": 1000, \"relative_duration\": 2.0930242225722173}, {\"name\": \"44bdc8c7\", \"duration\": 55.01262354850769, \"library\": \"dask\", \"query\": 2, \"scale\": 1000, \"relative_duration\": 1.0}, {\"name\": \"9e16310e\", \"duration\": 19.620285511016846, \"library\": \"duckdb\", \"query\": 2, \"scale\": 1000, \"relative_duration\": 0.35665060572354906}, {\"name\": \"477b3002\", \"duration\": 45.82921743392944, \"library\": \"pyspark\", \"query\": 2, \"scale\": 1000, \"relative_duration\": 0.8330672939733418}, {\"name\": \"44bdc8c7\", \"duration\": 67.65736985206604, \"library\": \"dask\", \"query\": 3, \"scale\": 1000, \"relative_duration\": 1.0}, {\"name\": \"9e16310e\", \"duration\": 167.00138306617737, \"library\": \"duckdb\", \"query\": 3, \"scale\": 1000, \"relative_duration\": 2.468339863511228}, {\"name\": \"477b3002\", \"duration\": 90.03292775154114, \"library\": \"pyspark\", \"query\": 3, \"scale\": 1000, \"relative_duration\": 1.3307187073396383}, {\"name\": \"44bdc8c7\", \"duration\": 44.942315101623535, \"library\": \"dask\", \"query\": 4, \"scale\": 1000, \"relative_duration\": 1.0}, {\"name\": \"9e16310e\", \"duration\": 29.833195447921753, \"library\": \"duckdb\", \"query\": 4, \"scale\": 1000, \"relative_duration\": 0.6638108290697298}, {\"name\": \"477b3002\", \"duration\": 69.48447895050049, \"library\": \"pyspark\", \"query\": 4, \"scale\": 1000, \"relative_duration\": 1.5460814333525594}, {\"name\": \"44bdc8c7\", \"duration\": 101.54061508178711, \"library\": \"dask\", \"query\": 5, \"scale\": 1000, \"relative_duration\": 1.0}, {\"name\": \"9e16310e\", \"duration\": 39.59130930900574, \"library\": \"duckdb\", \"query\": 5, \"scale\": 1000, \"relative_duration\": 0.38990614028796694}, {\"name\": \"477b3002\", \"duration\": 168.32815027236938, \"library\": \"pyspark\", \"query\": 5, \"scale\": 1000, \"relative_duration\": 1.6577420782490577}, {\"name\": \"44bdc8c7\", \"duration\": 10.845012426376343, \"library\": \"dask\", \"query\": 6, \"scale\": 1000, \"relative_duration\": 1.0}, {\"name\": \"9e16310e\", \"duration\": 20.835390090942383, \"library\": \"duckdb\", \"query\": 6, \"scale\": 1000, \"relative_duration\": 1.921195594047294}, {\"name\": \"477b3002\", \"duration\": 27.833962202072144, \"library\": \"pyspark\", \"query\": 6, \"scale\": 1000, \"relative_duration\": 2.5665219280317912}, {\"name\": \"44bdc8c7\", \"duration\": 109.00600123405457, \"library\": \"dask\", \"query\": 7, \"scale\": 1000, \"relative_duration\": 1.0}, {\"name\": \"9e16310e\", \"duration\": 239.29256343841553, \"library\": \"duckdb\", \"query\": 7, \"scale\": 1000, \"relative_duration\": 2.1952237558427026}, {\"name\": \"477b3002\", \"duration\": 84.19863557815552, \"library\": \"pyspark\", \"query\": 7, \"scale\": 1000, \"relative_duration\": 0.7724220192002696}, {\"name\": \"44bdc8c7\", \"duration\": 129.37504935264587, \"library\": \"dask\", \"query\": 8, \"scale\": 1000, \"relative_duration\": 1.0}, {\"name\": \"9e16310e\", \"duration\": 53.52777290344238, \"library\": \"duckdb\", \"query\": 8, \"scale\": 1000, \"relative_duration\": 0.41374108200367365}, {\"name\": \"477b3002\", \"duration\": 169.28215527534485, \"library\": \"pyspark\", \"query\": 8, \"scale\": 1000, \"relative_duration\": 1.3084606044394358}, {\"name\": \"44bdc8c7\", \"duration\": 184.13342237472534, \"library\": \"dask\", \"query\": 9, \"scale\": 1000, \"relative_duration\": 1.0}, {\"name\": \"9e16310e\", \"duration\": 174.61981296539307, \"library\": \"duckdb\", \"query\": 9, \"scale\": 1000, \"relative_duration\": 0.9483330658462896}, {\"name\": \"477b3002\", \"duration\": 207.6880226135254, \"library\": \"pyspark\", \"query\": 9, \"scale\": 1000, \"relative_duration\": 1.1279213731815871}, {\"name\": \"44bdc8c7\", \"duration\": 88.57309150695801, \"library\": \"dask\", \"query\": 10, \"scale\": 1000, \"relative_duration\": 1.0}, {\"name\": \"9e16310e\", \"duration\": 119.10435390472412, \"library\": \"duckdb\", \"query\": 10, \"scale\": 1000, \"relative_duration\": 1.3447013294705614}, {\"name\": \"477b3002\", \"duration\": 63.06327509880066, \"library\": \"pyspark\", \"query\": 10, \"scale\": 1000, \"relative_duration\": 0.711991351163876}, {\"name\": \"44bdc8c7\", \"duration\": 19.897305011749268, \"library\": \"dask\", \"query\": 11, \"scale\": 1000, \"relative_duration\": 1.0}, {\"name\": \"9e16310e\", \"duration\": 16.218371152877808, \"library\": \"duckdb\", \"query\": 11, \"scale\": 1000, \"relative_duration\": 0.815103911977071}, {\"name\": \"477b3002\", \"duration\": 28.378389596939087, \"library\": \"pyspark\", \"query\": 11, \"scale\": 1000, \"relative_duration\": 1.4262428796352962}], \"data-6609a5a7347f4301b39e30d83c70fde7\": [{\"name\": \"44bdc8c7\", \"duration\": 50.88893413543701, \"library\": \"dask\", \"query\": 12, \"scale\": 1000, \"relative_duration\": 1.0}, {\"name\": \"9e16310e\", \"duration\": 25.669204711914062, \"library\": \"duckdb\", \"query\": 12, \"scale\": 1000, \"relative_duration\": 0.5044162379899221}, {\"name\": \"477b3002\", \"duration\": 49.58424115180969, \"library\": \"pyspark\", \"query\": 12, \"scale\": 1000, \"relative_duration\": 0.9743619510647447}, {\"name\": \"44bdc8c7\", \"duration\": 35.097862005233765, \"library\": \"dask\", \"query\": 13, \"scale\": 1000, \"relative_duration\": 1.0}, {\"name\": \"9e16310e\", \"duration\": 72.87638115882874, \"library\": \"duckdb\", \"query\": 13, \"scale\": 1000, \"relative_duration\": 2.0763766507476}, {\"name\": \"477b3002\", \"duration\": 52.043217420578, \"library\": \"pyspark\", \"query\": 13, \"scale\": 1000, \"relative_duration\": 1.4828030668311751}, {\"name\": \"44bdc8c7\", \"duration\": 22.920140504837036, \"library\": \"dask\", \"query\": 14, \"scale\": 1000, \"relative_duration\": 1.0}, {\"name\": \"9e16310e\", \"duration\": 44.0588858127594, \"library\": \"duckdb\", \"query\": 14, \"scale\": 1000, \"relative_duration\": 1.9222781729222502}, {\"name\": \"477b3002\", \"duration\": 31.392590284347534, \"library\": \"pyspark\", \"query\": 14, \"scale\": 1000, \"relative_duration\": 1.3696508656970268}, {\"name\": \"44bdc8c7\", \"duration\": 35.30742621421814, \"library\": \"dask\", \"query\": 15, \"scale\": 1000, \"relative_duration\": 1.0}, {\"name\": \"9e16310e\", \"duration\": 66.09337615966797, \"library\": \"duckdb\", \"query\": 15, \"scale\": 1000, \"relative_duration\": 1.8719397941573115}, {\"name\": \"477b3002\", \"duration\": 43.07330656051636, \"library\": \"pyspark\", \"query\": 15, \"scale\": 1000, \"relative_duration\": 1.2199503384693313}, {\"name\": \"44bdc8c7\", \"duration\": 24.98328971862793, \"library\": \"dask\", \"query\": 16, \"scale\": 1000, \"relative_duration\": 1.0}, {\"name\": \"9e16310e\", \"duration\": 30.322426080703735, \"library\": \"duckdb\", \"query\": 16, \"scale\": 1000, \"relative_duration\": 1.2137082995156905}, {\"name\": \"477b3002\", \"duration\": 21.59945321083069, \"library\": \"pyspark\", \"query\": 16, \"scale\": 1000, \"relative_duration\": 0.8645560073990496}, {\"name\": \"44bdc8c7\", \"duration\": 85.46898007392883, \"library\": \"dask\", \"query\": 17, \"scale\": 1000, \"relative_duration\": 1.0}, {\"name\": \"9e16310e\", \"duration\": 41.6661319732666, \"library\": \"duckdb\", \"query\": 17, \"scale\": 1000, \"relative_duration\": 0.48750004899118127}, {\"name\": \"477b3002\", \"duration\": 150.58083748817444, \"library\": \"pyspark\", \"query\": 17, \"scale\": 1000, \"relative_duration\": 1.7618185844492966}, {\"name\": \"44bdc8c7\", \"duration\": 169.94610834121704, \"library\": \"dask\", \"query\": 18, \"scale\": 1000, \"relative_duration\": 1.0}, {\"name\": \"477b3002\", \"duration\": 150.466148853302, \"library\": \"pyspark\", \"query\": 18, \"scale\": 1000, \"relative_duration\": 0.8853756659799278}, {\"name\": \"44bdc8c7\", \"duration\": 39.83003091812134, \"library\": \"dask\", \"query\": 19, \"scale\": 1000, \"relative_duration\": 1.0}, {\"name\": \"9e16310e\", \"duration\": 34.4285626411438, \"library\": \"duckdb\", \"query\": 19, \"scale\": 1000, \"relative_duration\": 0.8643870428300358}, {\"name\": \"477b3002\", \"duration\": 39.75067353248596, \"library\": \"pyspark\", \"query\": 19, \"scale\": 1000, \"relative_duration\": 0.9980075991957297}, {\"name\": \"44bdc8c7\", \"duration\": 71.34559345245361, \"library\": \"dask\", \"query\": 20, \"scale\": 1000, \"relative_duration\": 1.0}, {\"name\": \"9e16310e\", \"duration\": 38.41373658180237, \"library\": \"duckdb\", \"query\": 20, \"scale\": 1000, \"relative_duration\": 0.5384177876017274}, {\"name\": \"477b3002\", \"duration\": 40.75278115272522, \"library\": \"pyspark\", \"query\": 20, \"scale\": 1000, \"relative_duration\": 0.5712024973186863}, {\"name\": \"44bdc8c7\", \"duration\": 251.64182829856873, \"library\": \"dask\", \"query\": 21, \"scale\": 1000, \"relative_duration\": 1.0}, {\"name\": \"9e16310e\", \"duration\": 113.02221250534058, \"library\": \"duckdb\", \"query\": 21, \"scale\": 1000, \"relative_duration\": 0.4491392121473607}, {\"name\": \"477b3002\", \"duration\": 231.46042490005493, \"library\": \"pyspark\", \"query\": 21, \"scale\": 1000, \"relative_duration\": 0.9198010778455762}, {\"name\": \"44bdc8c7\", \"duration\": 22.98221516609192, \"library\": \"dask\", \"query\": 22, \"scale\": 1000, \"relative_duration\": 1.0}, {\"name\": \"9e16310e\", \"duration\": 15.949731826782227, \"library\": \"duckdb\", \"query\": 22, \"scale\": 1000, \"relative_duration\": 0.6940032417029384}, {\"name\": \"477b3002\", \"duration\": 27.611745357513428, \"library\": \"pyspark\", \"query\": 22, \"scale\": 1000, \"relative_duration\": 1.2014396853377276}]}}, {\"mode\": \"vega-lite\"});\n",
       "</script>"
      ],
      "text/plain": [
       "alt.VConcatChart(...)"
      ]
     },
     "execution_count": 9,
     "metadata": {},
     "output_type": "execute_result"
    }
   ],
   "source": [
    "rel_chart = plot(df, [\"dask\", \"duckdb\", \"pyspark\"], column=\"relative_duration\")\n",
    "rel_chart.save(\"tpch-scale-1000-no-polars-relative.svg\")\n",
    "rel_chart"
   ]
  },
  {
   "cell_type": "markdown",
   "id": "611c2644-c7b7-47ac-a2b2-1c47fa22360f",
   "metadata": {},
   "source": [
    "## Compute summary statistics"
   ]
  },
  {
   "cell_type": "code",
   "execution_count": 10,
   "id": "34830787-2364-4541-8cf8-8adffbde9148",
   "metadata": {},
   "outputs": [
    {
     "data": {
      "text/plain": [
       "library\n",
       "dask       1.000000\n",
       "duckdb     1.091302\n",
       "pyspark    1.255598\n",
       "Name: relative_duration, dtype: float64"
      ]
     },
     "execution_count": 10,
     "metadata": {},
     "output_type": "execute_result"
    }
   ],
   "source": [
    "df.groupby(\"library\").relative_duration.mean()"
   ]
  }
 ],
 "metadata": {
  "kernelspec": {
   "display_name": "Python 3 (ipykernel)",
   "language": "python",
   "name": "python3"
  },
  "language_info": {
   "codemirror_mode": {
    "name": "ipython",
    "version": 3
   },
   "file_extension": ".py",
   "mimetype": "text/x-python",
   "name": "python",
   "nbconvert_exporter": "python",
   "pygments_lexer": "ipython3",
   "version": "3.11.8"
  }
 },
 "nbformat": 4,
 "nbformat_minor": 5
}
