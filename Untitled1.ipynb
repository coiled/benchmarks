{
 "cells": [
  {
   "cell_type": "code",
   "execution_count": null,
   "id": "9ccae1a1-5236-4689-a5d0-f7cdf94c2041",
   "metadata": {},
   "outputs": [
    {
     "name": "stderr",
     "output_type": "stream",
     "text": [
      "2024-04-03 16:28:42,011 - distributed.shuffle._scheduler_plugin - WARNING - Shuffle 8c73d40cfbce15fea67d2ce96ddadd3d initialized by task ('random_sample-rechunk-transfer-8c73d40cfbce15fea67d2ce96ddadd3d', 425, 0, 0) executed on worker tcp://127.0.0.1:50661\n",
      "2024-04-03 16:30:09,449 - distributed.worker - ERROR - Failed to communicate with scheduler during heartbeat.\n",
      "Traceback (most recent call last):\n",
      "  File \"/Users/fjetter/miniforge3/envs/dask-distributed/lib/python3.10/site-packages/tornado/iostream.py\", line 962, in _handle_write\n",
      "    num_bytes = self.write_to_fd(self._write_buffer.peek(size))\n",
      "  File \"/Users/fjetter/miniforge3/envs/dask-distributed/lib/python3.10/site-packages/tornado/iostream.py\", line 1124, in write_to_fd\n",
      "    return self.socket.send(data)  # type: ignore\n",
      "OSError: [Errno 55] No buffer space available\n",
      "\n",
      "The above exception was the direct cause of the following exception:\n",
      "\n",
      "Traceback (most recent call last):\n",
      "  File \"/Users/fjetter/workspace/distributed/distributed/worker.py\", line 1252, in heartbeat\n",
      "    response = await retry_operation(\n",
      "  File \"/Users/fjetter/workspace/distributed/distributed/utils_comm.py\", line 455, in retry_operation\n",
      "    return await retry(\n",
      "  File \"/Users/fjetter/workspace/distributed/distributed/utils_comm.py\", line 434, in retry\n",
      "    return await coro()\n",
      "  File \"/Users/fjetter/workspace/distributed/distributed/core.py\", line 1395, in send_recv_from_rpc\n",
      "    return await send_recv(comm=comm, op=key, **kwargs)\n",
      "  File \"/Users/fjetter/workspace/distributed/distributed/core.py\", line 1154, in send_recv\n",
      "    response = await comm.read(deserializers=deserializers)\n",
      "  File \"/Users/fjetter/workspace/distributed/distributed/comm/tcp.py\", line 236, in read\n",
      "    convert_stream_closed_error(self, e)\n",
      "  File \"/Users/fjetter/workspace/distributed/distributed/comm/tcp.py\", line 140, in convert_stream_closed_error\n",
      "    raise CommClosedError(f\"in {obj}: {exc.__class__.__name__}: {exc}\") from exc\n",
      "distributed.comm.core.CommClosedError: in <TCP (closed) ConnectionPool.heartbeat_worker local=tcp://127.0.0.1:50700 remote=tcp://127.0.0.1:50648>: OSError: [Errno 55] No buffer space available\n"
     ]
    }
   ],
   "source": [
    "import dask\n",
    "from distributed import Client\n",
    "import dask.array as da\n",
    "\n",
    "shape = (30_000, 6_000, 150) # 201.17 GiB\n",
    "\n",
    "input_chunks = (60, -1, -1) # 411.99 MiB\n",
    "output_chunks = (-1, 6, -1) # 205.99 MiB\n",
    "\n",
    "\n",
    "arr = da.random.random(shape, chunks=input_chunks)\n",
    "with Client():\n",
    "    with dask.config.set({\n",
    "        \"array.rechunk.method\": \"p2p\",\n",
    "        \"distributed.p2p.disk\": True\n",
    "    }):\n",
    "        arr.rechunk(output_chunks).sum().compute()"
   ]
  }
 ],
 "metadata": {
  "kernelspec": {
   "display_name": "Python 3 (ipykernel)",
   "language": "python",
   "name": "python3"
  },
  "language_info": {
   "codemirror_mode": {
    "name": "ipython",
    "version": 3
   },
   "file_extension": ".py",
   "mimetype": "text/x-python",
   "name": "python",
   "nbconvert_exporter": "python",
   "pygments_lexer": "ipython3",
   "version": "3.10.13"
  }
 },
 "nbformat": 4,
 "nbformat_minor": 5
}
